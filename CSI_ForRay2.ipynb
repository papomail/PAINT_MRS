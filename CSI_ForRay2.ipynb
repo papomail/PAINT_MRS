{
 "cells": [
  {
   "cell_type": "code",
   "execution_count": 1,
   "metadata": {},
   "outputs": [],
   "source": [
    "from pathlib import Path\n",
    "import os\n",
    "from tqdm import tqdm\n",
    "import pandas as pd\n",
    "import numpy as np\n",
    "import csv"
   ]
  },
  {
   "cell_type": "code",
   "execution_count": 2,
   "metadata": {},
   "outputs": [
    {
     "name": "stderr",
     "output_type": "stream",
     "text": [
      "  0%|          | 0/22 [00:00<?, ?it/s]"
     ]
    },
    {
     "name": "stdout",
     "output_type": "stream",
     "text": [
      "tarquin --rows 3 --cols 2 --input /Users/papo/Sync/MRdata/IoN_Piglet/MRS_RAY/LWP758/CSI/C2480940_WIP_CSI_PB_auto_TR2S_SENSE_7_2_raw_act.SDAT --output_csv /Users/papo/Sync/MRdata/IoN_Piglet/MRS_RAY/LWP758/CSI/C2480940_WIP_CSI_PB_auto_TR2S_SENSE_7_2_raw_act_both.csv --input_w /Users/papo/Sync/MRdata/IoN_Piglet/MRS_RAY/LWP758/CSI/C2480940_WIP_CSI_PB_auto_TR2S_SENSE_7_2_raw_ref.SDAT --basis_csv /Users/papo/Sync/Projects/PAINT_MRS_CSI/3_0T_basis_threonine_no_MM\n",
      "\n"
     ]
    },
    {
     "name": "stderr",
     "output_type": "stream",
     "text": [
      "100%|██████████| 22/22 [00:17<00:00,  1.25it/s]\n"
     ]
    }
   ],
   "source": [
    "data_folder = Path('/Users/papo/Sync/MRdata/IoN_Piglet/MRS_RAY')\n",
    "# data_folder = Path('/Users/papo/Downloads/LWP739_D4')\n",
    "basis_folder = Path('/Users/papo/Sync/Projects/PAINT_MRS_CSI/3_0T_basis_threonine_no_MM')\n",
    "\n",
    "sdat_files = [f for f in sorted(data_folder.rglob('*')) if (\"act.sdat\" in f.name.lower() and \"csi\" in f.name.lower())]\n",
    "for file in tqdm(sdat_files):\n",
    "    ref = Path(f'{str(file)[0:-8]}ref.SDAT')\n",
    "    csv = Path(f'{str(file)[0:-5]}_both.csv')\n",
    "    pdf = Path(f'{str(file)[0:-4]}pdf')\n",
    "    if not csv.is_file():\n",
    "        # command = f'tarquin --rows 3 --cols 2 --input {file} --output_pdf {pdf} --output_csv {csv} --input_w {ref} --basis_csv {basis_folder}'\n",
    "        command = f'tarquin --rows 3 --cols 2 --input {file} --output_csv {csv} --input_w {ref} --basis_csv {basis_folder}'\n",
    "        print(f'{command}\\n') \n",
    "        os.system(command)\n"
   ]
  },
  {
   "cell_type": "code",
   "execution_count": 10,
   "metadata": {},
   "outputs": [
    {
     "name": "stderr",
     "output_type": "stream",
     "text": [
      "b'Skipping line 18: expected 25 fields, saw 34\\nSkipping line 19: expected 25 fields, saw 34\\nSkipping line 20: expected 25 fields, saw 34\\nSkipping line 21: expected 25 fields, saw 34\\nSkipping line 22: expected 25 fields, saw 34\\nSkipping line 23: expected 25 fields, saw 34\\nSkipping line 24: expected 25 fields, saw 34\\n'\n",
      "b'Skipping line 18: expected 25 fields, saw 34\\nSkipping line 19: expected 25 fields, saw 34\\nSkipping line 20: expected 25 fields, saw 34\\nSkipping line 21: expected 25 fields, saw 34\\nSkipping line 22: expected 25 fields, saw 34\\nSkipping line 23: expected 25 fields, saw 34\\nSkipping line 24: expected 25 fields, saw 34\\n'\n",
      "b'Skipping line 18: expected 25 fields, saw 34\\nSkipping line 19: expected 25 fields, saw 34\\nSkipping line 20: expected 25 fields, saw 34\\nSkipping line 21: expected 25 fields, saw 34\\nSkipping line 22: expected 25 fields, saw 34\\nSkipping line 23: expected 25 fields, saw 34\\nSkipping line 24: expected 25 fields, saw 34\\n'\n",
      "b'Skipping line 18: expected 25 fields, saw 34\\nSkipping line 19: expected 25 fields, saw 34\\nSkipping line 20: expected 25 fields, saw 34\\nSkipping line 21: expected 25 fields, saw 34\\nSkipping line 22: expected 25 fields, saw 34\\nSkipping line 23: expected 25 fields, saw 34\\nSkipping line 24: expected 25 fields, saw 34\\n'\n",
      "b'Skipping line 18: expected 25 fields, saw 34\\nSkipping line 19: expected 25 fields, saw 34\\nSkipping line 20: expected 25 fields, saw 34\\nSkipping line 21: expected 25 fields, saw 34\\nSkipping line 22: expected 25 fields, saw 34\\nSkipping line 23: expected 25 fields, saw 34\\nSkipping line 24: expected 25 fields, saw 34\\n'\n",
      "b'Skipping line 18: expected 25 fields, saw 34\\nSkipping line 19: expected 25 fields, saw 34\\nSkipping line 20: expected 25 fields, saw 34\\nSkipping line 21: expected 25 fields, saw 34\\nSkipping line 22: expected 25 fields, saw 34\\nSkipping line 23: expected 25 fields, saw 34\\nSkipping line 24: expected 25 fields, saw 34\\n'\n",
      "b'Skipping line 18: expected 25 fields, saw 34\\nSkipping line 19: expected 25 fields, saw 34\\nSkipping line 20: expected 25 fields, saw 34\\nSkipping line 21: expected 25 fields, saw 34\\nSkipping line 22: expected 25 fields, saw 34\\nSkipping line 23: expected 25 fields, saw 34\\nSkipping line 24: expected 25 fields, saw 34\\n'\n",
      "b'Skipping line 18: expected 25 fields, saw 34\\nSkipping line 19: expected 25 fields, saw 34\\nSkipping line 20: expected 25 fields, saw 34\\nSkipping line 21: expected 25 fields, saw 34\\nSkipping line 22: expected 25 fields, saw 34\\nSkipping line 23: expected 25 fields, saw 34\\nSkipping line 24: expected 25 fields, saw 34\\n'\n",
      "b'Skipping line 18: expected 25 fields, saw 34\\nSkipping line 19: expected 25 fields, saw 34\\nSkipping line 20: expected 25 fields, saw 34\\nSkipping line 21: expected 25 fields, saw 34\\nSkipping line 22: expected 25 fields, saw 34\\nSkipping line 23: expected 25 fields, saw 34\\nSkipping line 24: expected 25 fields, saw 34\\n'\n",
      "b'Skipping line 18: expected 25 fields, saw 34\\nSkipping line 19: expected 25 fields, saw 34\\nSkipping line 20: expected 25 fields, saw 34\\nSkipping line 21: expected 25 fields, saw 34\\nSkipping line 22: expected 25 fields, saw 34\\nSkipping line 23: expected 25 fields, saw 34\\nSkipping line 24: expected 25 fields, saw 34\\n'\n",
      "b'Skipping line 18: expected 25 fields, saw 34\\nSkipping line 19: expected 25 fields, saw 34\\nSkipping line 20: expected 25 fields, saw 34\\nSkipping line 21: expected 25 fields, saw 34\\nSkipping line 22: expected 25 fields, saw 34\\nSkipping line 23: expected 25 fields, saw 34\\nSkipping line 24: expected 25 fields, saw 34\\n'\n",
      "b'Skipping line 18: expected 25 fields, saw 34\\nSkipping line 19: expected 25 fields, saw 34\\nSkipping line 20: expected 25 fields, saw 34\\nSkipping line 21: expected 25 fields, saw 34\\nSkipping line 22: expected 25 fields, saw 34\\nSkipping line 23: expected 25 fields, saw 34\\nSkipping line 24: expected 25 fields, saw 34\\n'\n",
      "b'Skipping line 18: expected 25 fields, saw 34\\nSkipping line 19: expected 25 fields, saw 34\\nSkipping line 20: expected 25 fields, saw 34\\nSkipping line 21: expected 25 fields, saw 34\\nSkipping line 22: expected 25 fields, saw 34\\nSkipping line 23: expected 25 fields, saw 34\\nSkipping line 24: expected 25 fields, saw 34\\n'\n",
      "b'Skipping line 18: expected 25 fields, saw 34\\nSkipping line 19: expected 25 fields, saw 34\\nSkipping line 20: expected 25 fields, saw 34\\nSkipping line 21: expected 25 fields, saw 34\\nSkipping line 22: expected 25 fields, saw 34\\nSkipping line 23: expected 25 fields, saw 34\\nSkipping line 24: expected 25 fields, saw 34\\n'\n",
      "b'Skipping line 18: expected 25 fields, saw 34\\nSkipping line 19: expected 25 fields, saw 34\\nSkipping line 20: expected 25 fields, saw 34\\nSkipping line 21: expected 25 fields, saw 34\\nSkipping line 22: expected 25 fields, saw 34\\nSkipping line 23: expected 25 fields, saw 34\\nSkipping line 24: expected 25 fields, saw 34\\n'\n",
      "b'Skipping line 18: expected 25 fields, saw 34\\nSkipping line 19: expected 25 fields, saw 34\\nSkipping line 20: expected 25 fields, saw 34\\nSkipping line 21: expected 25 fields, saw 34\\nSkipping line 22: expected 25 fields, saw 34\\nSkipping line 23: expected 25 fields, saw 34\\nSkipping line 24: expected 25 fields, saw 34\\n'\n",
      "b'Skipping line 18: expected 25 fields, saw 34\\nSkipping line 19: expected 25 fields, saw 34\\nSkipping line 20: expected 25 fields, saw 34\\nSkipping line 21: expected 25 fields, saw 34\\nSkipping line 22: expected 25 fields, saw 34\\nSkipping line 23: expected 25 fields, saw 34\\nSkipping line 24: expected 25 fields, saw 34\\n'\n",
      "b'Skipping line 18: expected 25 fields, saw 34\\nSkipping line 19: expected 25 fields, saw 34\\nSkipping line 20: expected 25 fields, saw 34\\nSkipping line 21: expected 25 fields, saw 34\\nSkipping line 22: expected 25 fields, saw 34\\nSkipping line 23: expected 25 fields, saw 34\\nSkipping line 24: expected 25 fields, saw 34\\n'\n",
      "b'Skipping line 18: expected 25 fields, saw 34\\nSkipping line 19: expected 25 fields, saw 34\\nSkipping line 20: expected 25 fields, saw 34\\nSkipping line 21: expected 25 fields, saw 34\\nSkipping line 22: expected 25 fields, saw 34\\nSkipping line 23: expected 25 fields, saw 34\\nSkipping line 24: expected 25 fields, saw 34\\n'\n",
      "b'Skipping line 18: expected 25 fields, saw 34\\nSkipping line 19: expected 25 fields, saw 34\\nSkipping line 20: expected 25 fields, saw 34\\nSkipping line 21: expected 25 fields, saw 34\\nSkipping line 22: expected 25 fields, saw 34\\nSkipping line 23: expected 25 fields, saw 34\\nSkipping line 24: expected 25 fields, saw 34\\n'\n",
      "b'Skipping line 18: expected 25 fields, saw 34\\nSkipping line 19: expected 25 fields, saw 34\\nSkipping line 20: expected 25 fields, saw 34\\nSkipping line 21: expected 25 fields, saw 34\\nSkipping line 22: expected 25 fields, saw 34\\nSkipping line 23: expected 25 fields, saw 34\\nSkipping line 24: expected 25 fields, saw 34\\n'\n",
      "b'Skipping line 18: expected 25 fields, saw 34\\nSkipping line 19: expected 25 fields, saw 34\\nSkipping line 20: expected 25 fields, saw 34\\nSkipping line 21: expected 25 fields, saw 34\\nSkipping line 22: expected 25 fields, saw 34\\nSkipping line 23: expected 25 fields, saw 34\\nSkipping line 24: expected 25 fields, saw 34\\n'\n",
      "b'Skipping line 18: expected 25 fields, saw 34\\nSkipping line 19: expected 25 fields, saw 34\\nSkipping line 20: expected 25 fields, saw 34\\nSkipping line 21: expected 25 fields, saw 34\\nSkipping line 22: expected 25 fields, saw 34\\nSkipping line 23: expected 25 fields, saw 34\\nSkipping line 24: expected 25 fields, saw 34\\n'\n",
      "b'Skipping line 18: expected 25 fields, saw 34\\nSkipping line 19: expected 25 fields, saw 34\\nSkipping line 20: expected 25 fields, saw 34\\nSkipping line 21: expected 25 fields, saw 34\\nSkipping line 22: expected 25 fields, saw 34\\nSkipping line 23: expected 25 fields, saw 34\\nSkipping line 24: expected 25 fields, saw 34\\n'\n",
      "b'Skipping line 18: expected 25 fields, saw 34\\nSkipping line 19: expected 25 fields, saw 34\\nSkipping line 20: expected 25 fields, saw 34\\nSkipping line 21: expected 25 fields, saw 34\\nSkipping line 22: expected 25 fields, saw 34\\nSkipping line 23: expected 25 fields, saw 34\\nSkipping line 24: expected 25 fields, saw 34\\n'\n",
      "b'Skipping line 18: expected 25 fields, saw 34\\nSkipping line 19: expected 25 fields, saw 34\\nSkipping line 20: expected 25 fields, saw 34\\nSkipping line 21: expected 25 fields, saw 34\\nSkipping line 22: expected 25 fields, saw 34\\nSkipping line 23: expected 25 fields, saw 34\\nSkipping line 24: expected 25 fields, saw 34\\n'\n",
      "b'Skipping line 18: expected 25 fields, saw 34\\nSkipping line 19: expected 25 fields, saw 34\\nSkipping line 20: expected 25 fields, saw 34\\nSkipping line 21: expected 25 fields, saw 34\\nSkipping line 22: expected 25 fields, saw 34\\nSkipping line 23: expected 25 fields, saw 34\\nSkipping line 24: expected 25 fields, saw 34\\n'\n",
      "b'Skipping line 18: expected 25 fields, saw 34\\nSkipping line 19: expected 25 fields, saw 34\\nSkipping line 20: expected 25 fields, saw 34\\nSkipping line 21: expected 25 fields, saw 34\\nSkipping line 22: expected 25 fields, saw 34\\nSkipping line 23: expected 25 fields, saw 34\\nSkipping line 24: expected 25 fields, saw 34\\n'\n",
      "b'Skipping line 18: expected 25 fields, saw 34\\nSkipping line 19: expected 25 fields, saw 34\\nSkipping line 20: expected 25 fields, saw 34\\nSkipping line 21: expected 25 fields, saw 34\\nSkipping line 22: expected 25 fields, saw 34\\nSkipping line 23: expected 25 fields, saw 34\\nSkipping line 24: expected 25 fields, saw 34\\n'\n",
      "b'Skipping line 18: expected 25 fields, saw 34\\nSkipping line 19: expected 25 fields, saw 34\\nSkipping line 20: expected 25 fields, saw 34\\nSkipping line 21: expected 25 fields, saw 34\\nSkipping line 22: expected 25 fields, saw 34\\nSkipping line 23: expected 25 fields, saw 34\\nSkipping line 24: expected 25 fields, saw 34\\n'\n",
      "b'Skipping line 18: expected 25 fields, saw 34\\nSkipping line 19: expected 25 fields, saw 34\\nSkipping line 20: expected 25 fields, saw 34\\nSkipping line 21: expected 25 fields, saw 34\\nSkipping line 22: expected 25 fields, saw 34\\nSkipping line 23: expected 25 fields, saw 34\\nSkipping line 24: expected 25 fields, saw 34\\n'\n",
      "b'Skipping line 18: expected 25 fields, saw 34\\nSkipping line 19: expected 25 fields, saw 34\\nSkipping line 20: expected 25 fields, saw 34\\nSkipping line 21: expected 25 fields, saw 34\\nSkipping line 22: expected 25 fields, saw 34\\nSkipping line 23: expected 25 fields, saw 34\\nSkipping line 24: expected 25 fields, saw 34\\n'\n",
      "b'Skipping line 18: expected 25 fields, saw 34\\nSkipping line 19: expected 25 fields, saw 34\\nSkipping line 20: expected 25 fields, saw 34\\nSkipping line 21: expected 25 fields, saw 34\\nSkipping line 22: expected 25 fields, saw 34\\nSkipping line 23: expected 25 fields, saw 34\\nSkipping line 24: expected 25 fields, saw 34\\n'\n",
      "b'Skipping line 18: expected 25 fields, saw 34\\nSkipping line 19: expected 25 fields, saw 34\\nSkipping line 20: expected 25 fields, saw 34\\nSkipping line 21: expected 25 fields, saw 34\\nSkipping line 22: expected 25 fields, saw 34\\nSkipping line 23: expected 25 fields, saw 34\\nSkipping line 24: expected 25 fields, saw 34\\n'\n",
      "b'Skipping line 18: expected 25 fields, saw 34\\nSkipping line 19: expected 25 fields, saw 34\\nSkipping line 20: expected 25 fields, saw 34\\nSkipping line 21: expected 25 fields, saw 34\\nSkipping line 22: expected 25 fields, saw 34\\nSkipping line 23: expected 25 fields, saw 34\\nSkipping line 24: expected 25 fields, saw 34\\n'\n",
      "b'Skipping line 18: expected 25 fields, saw 34\\nSkipping line 19: expected 25 fields, saw 34\\nSkipping line 20: expected 25 fields, saw 34\\nSkipping line 21: expected 25 fields, saw 34\\nSkipping line 22: expected 25 fields, saw 34\\nSkipping line 23: expected 25 fields, saw 34\\nSkipping line 24: expected 25 fields, saw 34\\n'\n",
      "b'Skipping line 18: expected 25 fields, saw 34\\nSkipping line 19: expected 25 fields, saw 34\\nSkipping line 20: expected 25 fields, saw 34\\nSkipping line 21: expected 25 fields, saw 34\\nSkipping line 22: expected 25 fields, saw 34\\nSkipping line 23: expected 25 fields, saw 34\\nSkipping line 24: expected 25 fields, saw 34\\n'\n",
      "b'Skipping line 18: expected 25 fields, saw 34\\nSkipping line 19: expected 25 fields, saw 34\\nSkipping line 20: expected 25 fields, saw 34\\nSkipping line 21: expected 25 fields, saw 34\\nSkipping line 22: expected 25 fields, saw 34\\nSkipping line 23: expected 25 fields, saw 34\\nSkipping line 24: expected 25 fields, saw 34\\n'\n",
      "b'Skipping line 18: expected 25 fields, saw 34\\nSkipping line 19: expected 25 fields, saw 34\\nSkipping line 20: expected 25 fields, saw 34\\nSkipping line 21: expected 25 fields, saw 34\\nSkipping line 22: expected 25 fields, saw 34\\nSkipping line 23: expected 25 fields, saw 34\\nSkipping line 24: expected 25 fields, saw 34\\n'\n",
      "b'Skipping line 18: expected 25 fields, saw 34\\nSkipping line 19: expected 25 fields, saw 34\\nSkipping line 20: expected 25 fields, saw 34\\nSkipping line 21: expected 25 fields, saw 34\\nSkipping line 22: expected 25 fields, saw 34\\nSkipping line 23: expected 25 fields, saw 34\\nSkipping line 24: expected 25 fields, saw 34\\n'\n",
      "b'Skipping line 18: expected 25 fields, saw 34\\nSkipping line 19: expected 25 fields, saw 34\\nSkipping line 20: expected 25 fields, saw 34\\nSkipping line 21: expected 25 fields, saw 34\\nSkipping line 22: expected 25 fields, saw 34\\nSkipping line 23: expected 25 fields, saw 34\\nSkipping line 24: expected 25 fields, saw 34\\n'\n",
      "b'Skipping line 18: expected 25 fields, saw 34\\nSkipping line 19: expected 25 fields, saw 34\\nSkipping line 20: expected 25 fields, saw 34\\nSkipping line 21: expected 25 fields, saw 34\\nSkipping line 22: expected 25 fields, saw 34\\nSkipping line 23: expected 25 fields, saw 34\\nSkipping line 24: expected 25 fields, saw 34\\n'\n",
      "b'Skipping line 18: expected 25 fields, saw 34\\nSkipping line 19: expected 25 fields, saw 34\\nSkipping line 20: expected 25 fields, saw 34\\nSkipping line 21: expected 25 fields, saw 34\\nSkipping line 22: expected 25 fields, saw 34\\nSkipping line 23: expected 25 fields, saw 34\\nSkipping line 24: expected 25 fields, saw 34\\n'\n",
      "b'Skipping line 18: expected 25 fields, saw 34\\nSkipping line 19: expected 25 fields, saw 34\\nSkipping line 20: expected 25 fields, saw 34\\nSkipping line 21: expected 25 fields, saw 34\\nSkipping line 22: expected 25 fields, saw 34\\nSkipping line 23: expected 25 fields, saw 34\\nSkipping line 24: expected 25 fields, saw 34\\n'\n",
      "b'Skipping line 18: expected 25 fields, saw 34\\nSkipping line 19: expected 25 fields, saw 34\\nSkipping line 20: expected 25 fields, saw 34\\nSkipping line 21: expected 25 fields, saw 34\\nSkipping line 22: expected 25 fields, saw 34\\nSkipping line 23: expected 25 fields, saw 34\\nSkipping line 24: expected 25 fields, saw 34\\n'\n",
      "b'Skipping line 18: expected 25 fields, saw 34\\nSkipping line 19: expected 25 fields, saw 34\\nSkipping line 20: expected 25 fields, saw 34\\nSkipping line 21: expected 25 fields, saw 34\\nSkipping line 22: expected 25 fields, saw 34\\nSkipping line 23: expected 25 fields, saw 34\\nSkipping line 24: expected 25 fields, saw 34\\n'\n",
      "b'Skipping line 18: expected 25 fields, saw 34\\nSkipping line 19: expected 25 fields, saw 34\\nSkipping line 20: expected 25 fields, saw 34\\nSkipping line 21: expected 25 fields, saw 34\\nSkipping line 22: expected 25 fields, saw 34\\nSkipping line 23: expected 25 fields, saw 34\\nSkipping line 24: expected 25 fields, saw 34\\n'\n",
      "b'Skipping line 18: expected 25 fields, saw 34\\nSkipping line 19: expected 25 fields, saw 34\\nSkipping line 20: expected 25 fields, saw 34\\nSkipping line 21: expected 25 fields, saw 34\\nSkipping line 22: expected 25 fields, saw 34\\nSkipping line 23: expected 25 fields, saw 34\\nSkipping line 24: expected 25 fields, saw 34\\n'\n",
      "b'Skipping line 18: expected 25 fields, saw 34\\nSkipping line 19: expected 25 fields, saw 34\\nSkipping line 20: expected 25 fields, saw 34\\nSkipping line 21: expected 25 fields, saw 34\\nSkipping line 22: expected 25 fields, saw 34\\nSkipping line 23: expected 25 fields, saw 34\\nSkipping line 24: expected 25 fields, saw 34\\n'\n",
      "b'Skipping line 18: expected 25 fields, saw 34\\nSkipping line 19: expected 25 fields, saw 34\\nSkipping line 20: expected 25 fields, saw 34\\nSkipping line 21: expected 25 fields, saw 34\\nSkipping line 22: expected 25 fields, saw 34\\nSkipping line 23: expected 25 fields, saw 34\\nSkipping line 24: expected 25 fields, saw 34\\n'\n",
      "b'Skipping line 18: expected 25 fields, saw 34\\nSkipping line 19: expected 25 fields, saw 34\\nSkipping line 20: expected 25 fields, saw 34\\nSkipping line 21: expected 25 fields, saw 34\\nSkipping line 22: expected 25 fields, saw 34\\nSkipping line 23: expected 25 fields, saw 34\\nSkipping line 24: expected 25 fields, saw 34\\n'\n",
      "b'Skipping line 18: expected 25 fields, saw 34\\nSkipping line 19: expected 25 fields, saw 34\\nSkipping line 20: expected 25 fields, saw 34\\nSkipping line 21: expected 25 fields, saw 34\\nSkipping line 22: expected 25 fields, saw 34\\nSkipping line 23: expected 25 fields, saw 34\\nSkipping line 24: expected 25 fields, saw 34\\n'\n",
      "b'Skipping line 18: expected 25 fields, saw 34\\nSkipping line 19: expected 25 fields, saw 34\\nSkipping line 20: expected 25 fields, saw 34\\nSkipping line 21: expected 25 fields, saw 34\\nSkipping line 22: expected 25 fields, saw 34\\nSkipping line 23: expected 25 fields, saw 34\\nSkipping line 24: expected 25 fields, saw 34\\n'\n",
      "b'Skipping line 18: expected 25 fields, saw 34\\nSkipping line 19: expected 25 fields, saw 34\\nSkipping line 20: expected 25 fields, saw 34\\nSkipping line 21: expected 25 fields, saw 34\\nSkipping line 22: expected 25 fields, saw 34\\nSkipping line 23: expected 25 fields, saw 34\\nSkipping line 24: expected 25 fields, saw 34\\n'\n",
      "b'Skipping line 18: expected 25 fields, saw 34\\nSkipping line 19: expected 25 fields, saw 34\\nSkipping line 20: expected 25 fields, saw 34\\nSkipping line 21: expected 25 fields, saw 34\\nSkipping line 22: expected 25 fields, saw 34\\nSkipping line 23: expected 25 fields, saw 34\\nSkipping line 24: expected 25 fields, saw 34\\n'\n",
      "b'Skipping line 18: expected 25 fields, saw 34\\nSkipping line 19: expected 25 fields, saw 34\\nSkipping line 20: expected 25 fields, saw 34\\nSkipping line 21: expected 25 fields, saw 34\\nSkipping line 22: expected 25 fields, saw 34\\nSkipping line 23: expected 25 fields, saw 34\\nSkipping line 24: expected 25 fields, saw 34\\n'\n",
      "b'Skipping line 18: expected 25 fields, saw 34\\nSkipping line 19: expected 25 fields, saw 34\\nSkipping line 20: expected 25 fields, saw 34\\nSkipping line 21: expected 25 fields, saw 34\\nSkipping line 22: expected 25 fields, saw 34\\nSkipping line 23: expected 25 fields, saw 34\\nSkipping line 24: expected 25 fields, saw 34\\n'\n",
      "b'Skipping line 18: expected 25 fields, saw 34\\nSkipping line 19: expected 25 fields, saw 34\\nSkipping line 20: expected 25 fields, saw 34\\nSkipping line 21: expected 25 fields, saw 34\\nSkipping line 22: expected 25 fields, saw 34\\nSkipping line 23: expected 25 fields, saw 34\\nSkipping line 24: expected 25 fields, saw 34\\n'\n",
      "b'Skipping line 18: expected 25 fields, saw 34\\nSkipping line 19: expected 25 fields, saw 34\\nSkipping line 20: expected 25 fields, saw 34\\nSkipping line 21: expected 25 fields, saw 34\\nSkipping line 22: expected 25 fields, saw 34\\nSkipping line 23: expected 25 fields, saw 34\\nSkipping line 24: expected 25 fields, saw 34\\n'\n",
      "b'Skipping line 18: expected 25 fields, saw 34\\nSkipping line 19: expected 25 fields, saw 34\\nSkipping line 20: expected 25 fields, saw 34\\nSkipping line 21: expected 25 fields, saw 34\\nSkipping line 22: expected 25 fields, saw 34\\nSkipping line 23: expected 25 fields, saw 34\\nSkipping line 24: expected 25 fields, saw 34\\n'\n",
      "b'Skipping line 18: expected 25 fields, saw 34\\nSkipping line 19: expected 25 fields, saw 34\\nSkipping line 20: expected 25 fields, saw 34\\nSkipping line 21: expected 25 fields, saw 34\\nSkipping line 22: expected 25 fields, saw 34\\nSkipping line 23: expected 25 fields, saw 34\\nSkipping line 24: expected 25 fields, saw 34\\n'\n",
      "b'Skipping line 18: expected 25 fields, saw 34\\nSkipping line 19: expected 25 fields, saw 34\\nSkipping line 20: expected 25 fields, saw 34\\nSkipping line 21: expected 25 fields, saw 34\\nSkipping line 22: expected 25 fields, saw 34\\nSkipping line 23: expected 25 fields, saw 34\\nSkipping line 24: expected 25 fields, saw 34\\n'\n",
      "b'Skipping line 18: expected 25 fields, saw 34\\nSkipping line 19: expected 25 fields, saw 34\\nSkipping line 20: expected 25 fields, saw 34\\nSkipping line 21: expected 25 fields, saw 34\\nSkipping line 22: expected 25 fields, saw 34\\nSkipping line 23: expected 25 fields, saw 34\\nSkipping line 24: expected 25 fields, saw 34\\n'\n",
      "b'Skipping line 18: expected 25 fields, saw 34\\nSkipping line 19: expected 25 fields, saw 34\\nSkipping line 20: expected 25 fields, saw 34\\nSkipping line 21: expected 25 fields, saw 34\\nSkipping line 22: expected 25 fields, saw 34\\nSkipping line 23: expected 25 fields, saw 34\\nSkipping line 24: expected 25 fields, saw 34\\n'\n",
      "b'Skipping line 18: expected 25 fields, saw 34\\nSkipping line 19: expected 25 fields, saw 34\\nSkipping line 20: expected 25 fields, saw 34\\nSkipping line 21: expected 25 fields, saw 34\\nSkipping line 22: expected 25 fields, saw 34\\nSkipping line 23: expected 25 fields, saw 34\\nSkipping line 24: expected 25 fields, saw 34\\n'\n",
      "b'Skipping line 18: expected 25 fields, saw 34\\nSkipping line 19: expected 25 fields, saw 34\\nSkipping line 20: expected 25 fields, saw 34\\nSkipping line 21: expected 25 fields, saw 34\\nSkipping line 22: expected 25 fields, saw 34\\nSkipping line 23: expected 25 fields, saw 34\\nSkipping line 24: expected 25 fields, saw 34\\n'\n",
      "b'Skipping line 18: expected 25 fields, saw 34\\nSkipping line 19: expected 25 fields, saw 34\\nSkipping line 20: expected 25 fields, saw 34\\nSkipping line 21: expected 25 fields, saw 34\\nSkipping line 22: expected 25 fields, saw 34\\nSkipping line 23: expected 25 fields, saw 34\\nSkipping line 24: expected 25 fields, saw 34\\n'\n",
      "b'Skipping line 18: expected 25 fields, saw 34\\nSkipping line 19: expected 25 fields, saw 34\\nSkipping line 20: expected 25 fields, saw 34\\nSkipping line 21: expected 25 fields, saw 34\\nSkipping line 22: expected 25 fields, saw 34\\nSkipping line 23: expected 25 fields, saw 34\\nSkipping line 24: expected 25 fields, saw 34\\n'\n",
      "b'Skipping line 18: expected 25 fields, saw 34\\nSkipping line 19: expected 25 fields, saw 34\\nSkipping line 20: expected 25 fields, saw 34\\nSkipping line 21: expected 25 fields, saw 34\\nSkipping line 22: expected 25 fields, saw 34\\nSkipping line 23: expected 25 fields, saw 34\\nSkipping line 24: expected 25 fields, saw 34\\n'\n",
      "b'Skipping line 18: expected 25 fields, saw 34\\nSkipping line 19: expected 25 fields, saw 34\\nSkipping line 20: expected 25 fields, saw 34\\nSkipping line 21: expected 25 fields, saw 34\\nSkipping line 22: expected 25 fields, saw 34\\nSkipping line 23: expected 25 fields, saw 34\\nSkipping line 24: expected 25 fields, saw 34\\n'\n",
      "b'Skipping line 18: expected 25 fields, saw 34\\nSkipping line 19: expected 25 fields, saw 34\\nSkipping line 20: expected 25 fields, saw 34\\nSkipping line 21: expected 25 fields, saw 34\\nSkipping line 22: expected 25 fields, saw 34\\nSkipping line 23: expected 25 fields, saw 34\\nSkipping line 24: expected 25 fields, saw 34\\n'\n",
      "b'Skipping line 18: expected 25 fields, saw 34\\nSkipping line 19: expected 25 fields, saw 34\\nSkipping line 20: expected 25 fields, saw 34\\nSkipping line 21: expected 25 fields, saw 34\\nSkipping line 22: expected 25 fields, saw 34\\nSkipping line 23: expected 25 fields, saw 34\\nSkipping line 24: expected 25 fields, saw 34\\n'\n",
      "b'Skipping line 18: expected 25 fields, saw 34\\nSkipping line 19: expected 25 fields, saw 34\\nSkipping line 20: expected 25 fields, saw 34\\nSkipping line 21: expected 25 fields, saw 34\\nSkipping line 22: expected 25 fields, saw 34\\nSkipping line 23: expected 25 fields, saw 34\\nSkipping line 24: expected 25 fields, saw 34\\n'\n",
      "b'Skipping line 18: expected 25 fields, saw 34\\nSkipping line 19: expected 25 fields, saw 34\\nSkipping line 20: expected 25 fields, saw 34\\nSkipping line 21: expected 25 fields, saw 34\\nSkipping line 22: expected 25 fields, saw 34\\nSkipping line 23: expected 25 fields, saw 34\\nSkipping line 24: expected 25 fields, saw 34\\n'\n",
      "b'Skipping line 18: expected 25 fields, saw 34\\nSkipping line 19: expected 25 fields, saw 34\\nSkipping line 20: expected 25 fields, saw 34\\nSkipping line 21: expected 25 fields, saw 34\\nSkipping line 22: expected 25 fields, saw 34\\nSkipping line 23: expected 25 fields, saw 34\\nSkipping line 24: expected 25 fields, saw 34\\n'\n",
      "b'Skipping line 18: expected 25 fields, saw 34\\nSkipping line 19: expected 25 fields, saw 34\\nSkipping line 20: expected 25 fields, saw 34\\nSkipping line 21: expected 25 fields, saw 34\\nSkipping line 22: expected 25 fields, saw 34\\nSkipping line 23: expected 25 fields, saw 34\\nSkipping line 24: expected 25 fields, saw 34\\n'\n",
      "b'Skipping line 18: expected 25 fields, saw 34\\nSkipping line 19: expected 25 fields, saw 34\\nSkipping line 20: expected 25 fields, saw 34\\nSkipping line 21: expected 25 fields, saw 34\\nSkipping line 22: expected 25 fields, saw 34\\nSkipping line 23: expected 25 fields, saw 34\\nSkipping line 24: expected 25 fields, saw 34\\n'\n",
      "b'Skipping line 18: expected 25 fields, saw 34\\nSkipping line 19: expected 25 fields, saw 34\\nSkipping line 20: expected 25 fields, saw 34\\nSkipping line 21: expected 25 fields, saw 34\\nSkipping line 22: expected 25 fields, saw 34\\nSkipping line 23: expected 25 fields, saw 34\\nSkipping line 24: expected 25 fields, saw 34\\n'\n",
      "b'Skipping line 18: expected 25 fields, saw 34\\nSkipping line 19: expected 25 fields, saw 34\\nSkipping line 20: expected 25 fields, saw 34\\nSkipping line 21: expected 25 fields, saw 34\\nSkipping line 22: expected 25 fields, saw 34\\nSkipping line 23: expected 25 fields, saw 34\\nSkipping line 24: expected 25 fields, saw 34\\n'\n",
      "b'Skipping line 18: expected 25 fields, saw 34\\nSkipping line 19: expected 25 fields, saw 34\\nSkipping line 20: expected 25 fields, saw 34\\nSkipping line 21: expected 25 fields, saw 34\\nSkipping line 22: expected 25 fields, saw 34\\nSkipping line 23: expected 25 fields, saw 34\\nSkipping line 24: expected 25 fields, saw 34\\n'\n",
      "b'Skipping line 18: expected 25 fields, saw 34\\nSkipping line 19: expected 25 fields, saw 34\\nSkipping line 20: expected 25 fields, saw 34\\nSkipping line 21: expected 25 fields, saw 34\\nSkipping line 22: expected 25 fields, saw 34\\nSkipping line 23: expected 25 fields, saw 34\\nSkipping line 24: expected 25 fields, saw 34\\n'\n",
      "b'Skipping line 18: expected 25 fields, saw 34\\nSkipping line 19: expected 25 fields, saw 34\\nSkipping line 20: expected 25 fields, saw 34\\nSkipping line 21: expected 25 fields, saw 34\\nSkipping line 22: expected 25 fields, saw 34\\nSkipping line 23: expected 25 fields, saw 34\\nSkipping line 24: expected 25 fields, saw 34\\n'\n",
      "b'Skipping line 18: expected 25 fields, saw 34\\nSkipping line 19: expected 25 fields, saw 34\\nSkipping line 20: expected 25 fields, saw 34\\nSkipping line 21: expected 25 fields, saw 34\\nSkipping line 22: expected 25 fields, saw 34\\nSkipping line 23: expected 25 fields, saw 34\\nSkipping line 24: expected 25 fields, saw 34\\n'\n",
      "b'Skipping line 18: expected 25 fields, saw 34\\nSkipping line 19: expected 25 fields, saw 34\\nSkipping line 20: expected 25 fields, saw 34\\nSkipping line 21: expected 25 fields, saw 34\\nSkipping line 22: expected 25 fields, saw 34\\nSkipping line 23: expected 25 fields, saw 34\\nSkipping line 24: expected 25 fields, saw 34\\n'\n",
      "b'Skipping line 18: expected 25 fields, saw 34\\nSkipping line 19: expected 25 fields, saw 34\\nSkipping line 20: expected 25 fields, saw 34\\nSkipping line 21: expected 25 fields, saw 34\\nSkipping line 22: expected 25 fields, saw 34\\nSkipping line 23: expected 25 fields, saw 34\\nSkipping line 24: expected 25 fields, saw 34\\n'\n",
      "b'Skipping line 18: expected 25 fields, saw 34\\nSkipping line 19: expected 25 fields, saw 34\\nSkipping line 20: expected 25 fields, saw 34\\nSkipping line 21: expected 25 fields, saw 34\\nSkipping line 22: expected 25 fields, saw 34\\nSkipping line 23: expected 25 fields, saw 34\\nSkipping line 24: expected 25 fields, saw 34\\n'\n",
      "b'Skipping line 18: expected 25 fields, saw 34\\nSkipping line 19: expected 25 fields, saw 34\\nSkipping line 20: expected 25 fields, saw 34\\nSkipping line 21: expected 25 fields, saw 34\\nSkipping line 22: expected 25 fields, saw 34\\nSkipping line 23: expected 25 fields, saw 34\\nSkipping line 24: expected 25 fields, saw 34\\n'\n",
      "b'Skipping line 18: expected 25 fields, saw 34\\nSkipping line 19: expected 25 fields, saw 34\\nSkipping line 20: expected 25 fields, saw 34\\nSkipping line 21: expected 25 fields, saw 34\\nSkipping line 22: expected 25 fields, saw 34\\nSkipping line 23: expected 25 fields, saw 34\\nSkipping line 24: expected 25 fields, saw 34\\n'\n",
      "b'Skipping line 18: expected 25 fields, saw 34\\nSkipping line 19: expected 25 fields, saw 34\\nSkipping line 20: expected 25 fields, saw 34\\nSkipping line 21: expected 25 fields, saw 34\\nSkipping line 22: expected 25 fields, saw 34\\nSkipping line 23: expected 25 fields, saw 34\\nSkipping line 24: expected 25 fields, saw 34\\n'\n",
      "b'Skipping line 18: expected 25 fields, saw 34\\nSkipping line 19: expected 25 fields, saw 34\\nSkipping line 20: expected 25 fields, saw 34\\nSkipping line 21: expected 25 fields, saw 34\\nSkipping line 22: expected 25 fields, saw 34\\nSkipping line 23: expected 25 fields, saw 34\\nSkipping line 24: expected 25 fields, saw 34\\n'\n"
     ]
    }
   ],
   "source": [
    "def pull_from_csv(csv_file, row=3, header=1):\n",
    "        lwp_ind = str(csv_file).lower().find('lwp')\n",
    "        lwp = str(csv_file)[lwp_ind:lwp_ind+6]\n",
    "        df = pd.read_csv(csv_file, header=[header], error_bad_lines=False)\n",
    "        try:\n",
    "            return [lwp,*df.iloc[row].name]\n",
    "        except:\n",
    "            return [lwp,*df.iloc[row]]\n",
    "\n",
    "\n",
    "csv_files = [f for f in sorted(data_folder.rglob('*'), key=lambda x:x.parent.parent.stem[4:6]) if (\"act_both.csv\" in f.name.lower() and \"csi\" in f.name.lower())]\n",
    "\n",
    "\n",
    "\n",
    "\n",
    "rows_to_process = {'BGT': 5, #(BGT = Basal Ganglia and Thalamic, ie deep GM)\n",
    "                   'WM': 3,\n",
    "                   }\n",
    "\n",
    "for label,row_num in rows_to_process.items():\n",
    "    # print(f'{label=}')\n",
    "    # print(f'{row_num=}')\n",
    "    data_list = []\n",
    "    for file in csv_files:\n",
    "        data_list.append([*pull_from_csv(file,row=row_num),*pull_from_csv(file,row=row_num+8),*pull_from_csv(file,header=16,row=row_num+1)])\n",
    "    my_columns = list(pd.read_csv(file, header=[1], error_bad_lines=False))\n",
    "    my_errors = [item+' Error (SD)' for item in my_columns]\n",
    "    my_diagnostics = pull_from_csv(file,row=0, header=16)    \n",
    "    df = pd.DataFrame(data_list, columns=['LWP', *my_columns, 'Error for LWP', *my_errors,*my_diagnostics ])\n",
    "    df.to_excel(f'{label}_test.xlsx', index=False)\n",
    "\n"
   ]
  },
  {
   "cell_type": "code",
   "execution_count": null,
   "metadata": {},
   "outputs": [],
   "source": [
    "# csv_files = [f for f in sorted(data_folder.rglob('*'), key=lambda x:x.parent.parent.stem[4:6]) if (\"act.csv\" in f.name.lower() and \"csi\" in f.name.lower())]\n",
    "# all_ratios = []\n",
    "# for (i,f) in enumerate(csv_files):\n",
    "#     print(i,f)\n",
    "#     print(f.parent.parent.stem)\n",
    "#     df = pd.read_csv(f, header=[1], error_bad_lines=False)\n",
    "#     # Lac NAA amplitudes and ratio (loc 3 for voxel 5,5):\n",
    "#     TNAA = float(df.loc[3]['TNAA'])\n",
    "#     TLac = float(df.loc[3]['Threonine']) + float(df.loc[3]['Lac'])\n",
    "    \n",
    "#     # Lac2NAA error (loc 9 for voxel 5,5):\n",
    "#     TNAA_err = float(df.loc[9]['TNAA'])\n",
    "#     TLac_err = np.sqrt( float(df.loc[9]['Lac']) **2 + float(df.loc[9]['Threonine']) **2 ) \n",
    "#     try:\n",
    "#         Lac2NAA = TLac/TNAA\n",
    "#         Lac2NAA_err = np.sqrt( (TLac_err/TLac) **2 + (TNAA_err/TNAA)**2 ) * Lac2NAA\n",
    "\n",
    "#     except:\n",
    "#         Lac2NAA = np.nan\n",
    "#         Lac2NAA_err = np.nan   \n",
    "#     print(f'{Lac2NAA=}')\n",
    "#     print(f'{Lac2NAA_err=}')\n",
    "\n",
    "#     GM_ratios.append([f.parent.parent.stem, Lac2NAA, Lac2NAA_err])\n",
    "\n",
    "\n",
    "# all_ratios_df = pd.DataFrame(all_ratios, columns=['LWP', 'Lac2NAA', 'Lac2NAA_error'])\n",
    "\n",
    "\n"
   ]
  },
  {
   "cell_type": "code",
   "execution_count": null,
   "metadata": {},
   "outputs": [],
   "source": []
  }
 ],
 "metadata": {
  "interpreter": {
   "hash": "7bcf6ce9e4b9108ac27b6266c0f70d472c30c010d14ee0d62e955855c910a9ea"
  },
  "kernelspec": {
   "display_name": "Python 3.8.2 ('pat3')",
   "language": "python",
   "name": "python3"
  },
  "language_info": {
   "codemirror_mode": {
    "name": "ipython",
    "version": 3
   },
   "file_extension": ".py",
   "mimetype": "text/x-python",
   "name": "python",
   "nbconvert_exporter": "python",
   "pygments_lexer": "ipython3",
   "version": "3.8.2"
  }
 },
 "nbformat": 4,
 "nbformat_minor": 4
}
