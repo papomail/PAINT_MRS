{
 "cells": [
  {
   "cell_type": "code",
   "execution_count": 123,
   "metadata": {},
   "outputs": [],
   "source": [
    "from pathlib import Path\n",
    "import os\n",
    "from tqdm import tqdm\n",
    "import pandas as pd\n",
    "import numpy as np\n",
    "import csv"
   ]
  },
  {
   "cell_type": "code",
   "execution_count": 2,
   "metadata": {},
   "outputs": [
    {
     "name": "stderr",
     "output_type": "stream",
     "text": [
      "  0%|          | 0/21 [00:00<?, ?it/s]"
     ]
    },
    {
     "name": "stdout",
     "output_type": "stream",
     "text": [
      "tarquin --rows 3 --cols 2 --input /Users/papo/Sync/MRdata/IoN_Piglet/MRS_RAY/LPW750_D4/CSI/C2961994_WIP_CSI_PB_auto_TR2S_SENSE_7_2_raw_act.SDAT --output_csv /Users/papo/Sync/MRdata/IoN_Piglet/MRS_RAY/LPW750_D4/CSI/C2961994_WIP_CSI_PB_auto_TR2S_SENSE_7_2_raw_act_both.csv --input_w /Users/papo/Sync/MRdata/IoN_Piglet/MRS_RAY/LPW750_D4/CSI/C2961994_WIP_CSI_PB_auto_TR2S_SENSE_7_2_raw_ref.SDAT --basis_csv /Users/papo/Sync/Projects/PAINT_MRS_CSI/3_0T_basis_threonine_no_MM\n",
      "\n"
     ]
    },
    {
     "name": "stderr",
     "output_type": "stream",
     "text": [
      "  5%|▍         | 1/21 [00:30<10:14, 30.72s/it]"
     ]
    },
    {
     "name": "stdout",
     "output_type": "stream",
     "text": [
      "tarquin --rows 3 --cols 2 --input /Users/papo/Sync/MRdata/IoN_Piglet/MRS_RAY/LWP733_D4/CSI/C5985446_WIP_CSI_PB_auto_TR2S_SENSE_13_2_raw_act.SDAT --output_csv /Users/papo/Sync/MRdata/IoN_Piglet/MRS_RAY/LWP733_D4/CSI/C5985446_WIP_CSI_PB_auto_TR2S_SENSE_13_2_raw_act_both.csv --input_w /Users/papo/Sync/MRdata/IoN_Piglet/MRS_RAY/LWP733_D4/CSI/C5985446_WIP_CSI_PB_auto_TR2S_SENSE_13_2_raw_ref.SDAT --basis_csv /Users/papo/Sync/Projects/PAINT_MRS_CSI/3_0T_basis_threonine_no_MM\n",
      "\n"
     ]
    },
    {
     "name": "stderr",
     "output_type": "stream",
     "text": [
      " 10%|▉         | 2/21 [00:59<09:33, 30.20s/it]"
     ]
    },
    {
     "name": "stdout",
     "output_type": "stream",
     "text": [
      "tarquin --rows 3 --cols 2 --input /Users/papo/Sync/MRdata/IoN_Piglet/MRS_RAY/LWP734_day4/MRS/C3377723_WIP_CSI_PB_auto_TR2S_SENSE_12_2_raw_act.SDAT --output_csv /Users/papo/Sync/MRdata/IoN_Piglet/MRS_RAY/LWP734_day4/MRS/C3377723_WIP_CSI_PB_auto_TR2S_SENSE_12_2_raw_act_both.csv --input_w /Users/papo/Sync/MRdata/IoN_Piglet/MRS_RAY/LWP734_day4/MRS/C3377723_WIP_CSI_PB_auto_TR2S_SENSE_12_2_raw_ref.SDAT --basis_csv /Users/papo/Sync/Projects/PAINT_MRS_CSI/3_0T_basis_threonine_no_MM\n",
      "\n"
     ]
    },
    {
     "name": "stderr",
     "output_type": "stream",
     "text": [
      " 14%|█▍        | 3/21 [01:15<07:44, 25.83s/it]"
     ]
    },
    {
     "name": "stdout",
     "output_type": "stream",
     "text": [
      "tarquin --rows 3 --cols 2 --input /Users/papo/Sync/MRdata/IoN_Piglet/MRS_RAY/LWP736_D4/CSI/C7166610_WIP_CSI_PB_auto_TR2S_SENSE_6_2_raw_act.SDAT --output_csv /Users/papo/Sync/MRdata/IoN_Piglet/MRS_RAY/LWP736_D4/CSI/C7166610_WIP_CSI_PB_auto_TR2S_SENSE_6_2_raw_act_both.csv --input_w /Users/papo/Sync/MRdata/IoN_Piglet/MRS_RAY/LWP736_D4/CSI/C7166610_WIP_CSI_PB_auto_TR2S_SENSE_6_2_raw_ref.SDAT --basis_csv /Users/papo/Sync/Projects/PAINT_MRS_CSI/3_0T_basis_threonine_no_MM\n",
      "\n"
     ]
    },
    {
     "name": "stderr",
     "output_type": "stream",
     "text": [
      " 19%|█▉        | 4/21 [01:33<06:38, 23.45s/it]"
     ]
    },
    {
     "name": "stdout",
     "output_type": "stream",
     "text": [
      "tarquin --rows 3 --cols 2 --input /Users/papo/Sync/MRdata/IoN_Piglet/MRS_RAY/LWP737_D4/CSI/C8206309_WIP_CSI_PB_auto_TR2S_SENSE_6_2_raw_act.SDAT --output_csv /Users/papo/Sync/MRdata/IoN_Piglet/MRS_RAY/LWP737_D4/CSI/C8206309_WIP_CSI_PB_auto_TR2S_SENSE_6_2_raw_act_both.csv --input_w /Users/papo/Sync/MRdata/IoN_Piglet/MRS_RAY/LWP737_D4/CSI/C8206309_WIP_CSI_PB_auto_TR2S_SENSE_6_2_raw_ref.SDAT --basis_csv /Users/papo/Sync/Projects/PAINT_MRS_CSI/3_0T_basis_threonine_no_MM\n",
      "\n"
     ]
    },
    {
     "name": "stderr",
     "output_type": "stream",
     "text": [
      " 24%|██▍       | 5/21 [01:49<05:40, 21.25s/it]"
     ]
    },
    {
     "name": "stdout",
     "output_type": "stream",
     "text": [
      "tarquin --rows 3 --cols 2 --input /Users/papo/Sync/MRdata/IoN_Piglet/MRS_RAY/LWP738_day4/MRS/C8009246_WIP_CSI_PB_auto_TR2S_SENSE_7_2_raw_act.SDAT --output_csv /Users/papo/Sync/MRdata/IoN_Piglet/MRS_RAY/LWP738_day4/MRS/C8009246_WIP_CSI_PB_auto_TR2S_SENSE_7_2_raw_act_both.csv --input_w /Users/papo/Sync/MRdata/IoN_Piglet/MRS_RAY/LWP738_day4/MRS/C8009246_WIP_CSI_PB_auto_TR2S_SENSE_7_2_raw_ref.SDAT --basis_csv /Users/papo/Sync/Projects/PAINT_MRS_CSI/3_0T_basis_threonine_no_MM\n",
      "\n"
     ]
    },
    {
     "name": "stderr",
     "output_type": "stream",
     "text": [
      " 29%|██▊       | 6/21 [02:09<05:13, 20.92s/it]"
     ]
    },
    {
     "name": "stdout",
     "output_type": "stream",
     "text": [
      "tarquin --rows 3 --cols 2 --input /Users/papo/Sync/MRdata/IoN_Piglet/MRS_RAY/LWP739_D4/CSI/C4116238_WIP_CSI_PB_auto_TR2S_SENSE_8_2_raw_act.SDAT --output_csv /Users/papo/Sync/MRdata/IoN_Piglet/MRS_RAY/LWP739_D4/CSI/C4116238_WIP_CSI_PB_auto_TR2S_SENSE_8_2_raw_act_both.csv --input_w /Users/papo/Sync/MRdata/IoN_Piglet/MRS_RAY/LWP739_D4/CSI/C4116238_WIP_CSI_PB_auto_TR2S_SENSE_8_2_raw_ref.SDAT --basis_csv /Users/papo/Sync/Projects/PAINT_MRS_CSI/3_0T_basis_threonine_no_MM\n",
      "\n"
     ]
    },
    {
     "name": "stderr",
     "output_type": "stream",
     "text": [
      " 33%|███▎      | 7/21 [02:25<04:31, 19.40s/it]"
     ]
    },
    {
     "name": "stdout",
     "output_type": "stream",
     "text": [
      "tarquin --rows 3 --cols 2 --input /Users/papo/Sync/MRdata/IoN_Piglet/MRS_RAY/LWP740_D4/MRS/C5039422_WIP_CSI_PB_auto_TR2S_SENSE_7_2_raw_act.SDAT --output_csv /Users/papo/Sync/MRdata/IoN_Piglet/MRS_RAY/LWP740_D4/MRS/C5039422_WIP_CSI_PB_auto_TR2S_SENSE_7_2_raw_act_both.csv --input_w /Users/papo/Sync/MRdata/IoN_Piglet/MRS_RAY/LWP740_D4/MRS/C5039422_WIP_CSI_PB_auto_TR2S_SENSE_7_2_raw_ref.SDAT --basis_csv /Users/papo/Sync/Projects/PAINT_MRS_CSI/3_0T_basis_threonine_no_MM\n",
      "\n"
     ]
    },
    {
     "name": "stderr",
     "output_type": "stream",
     "text": [
      " 38%|███▊      | 8/21 [02:40<03:55, 18.14s/it]"
     ]
    },
    {
     "name": "stdout",
     "output_type": "stream",
     "text": [
      "tarquin --rows 3 --cols 2 --input /Users/papo/Sync/MRdata/IoN_Piglet/MRS_RAY/LWP741_D4/CSI/C6572881_WIP_CSI_PB_auto_TR2S_SENSE_7_2_raw_act.SDAT --output_csv /Users/papo/Sync/MRdata/IoN_Piglet/MRS_RAY/LWP741_D4/CSI/C6572881_WIP_CSI_PB_auto_TR2S_SENSE_7_2_raw_act_both.csv --input_w /Users/papo/Sync/MRdata/IoN_Piglet/MRS_RAY/LWP741_D4/CSI/C6572881_WIP_CSI_PB_auto_TR2S_SENSE_7_2_raw_ref.SDAT --basis_csv /Users/papo/Sync/Projects/PAINT_MRS_CSI/3_0T_basis_threonine_no_MM\n",
      "\n"
     ]
    },
    {
     "name": "stderr",
     "output_type": "stream",
     "text": [
      " 43%|████▎     | 9/21 [02:55<03:25, 17.09s/it]"
     ]
    },
    {
     "name": "stdout",
     "output_type": "stream",
     "text": [
      "tarquin --rows 3 --cols 2 --input /Users/papo/Sync/MRdata/IoN_Piglet/MRS_RAY/LWP742_D4/Spec/C0688569_WIP_CSI_PB_auto_TR2S_SENSE_6_2_raw_act.SDAT --output_csv /Users/papo/Sync/MRdata/IoN_Piglet/MRS_RAY/LWP742_D4/Spec/C0688569_WIP_CSI_PB_auto_TR2S_SENSE_6_2_raw_act_both.csv --input_w /Users/papo/Sync/MRdata/IoN_Piglet/MRS_RAY/LWP742_D4/Spec/C0688569_WIP_CSI_PB_auto_TR2S_SENSE_6_2_raw_ref.SDAT --basis_csv /Users/papo/Sync/Projects/PAINT_MRS_CSI/3_0T_basis_threonine_no_MM\n",
      "\n"
     ]
    },
    {
     "name": "stderr",
     "output_type": "stream",
     "text": [
      " 48%|████▊     | 10/21 [03:13<03:11, 17.45s/it]"
     ]
    },
    {
     "name": "stdout",
     "output_type": "stream",
     "text": [
      "tarquin --rows 3 --cols 2 --input /Users/papo/Sync/MRdata/IoN_Piglet/MRS_RAY/LWP743_D4/CSI/C2205100_WIP_CSI_PB_auto_TR2S_SENSE_6_2_raw_act.SDAT --output_csv /Users/papo/Sync/MRdata/IoN_Piglet/MRS_RAY/LWP743_D4/CSI/C2205100_WIP_CSI_PB_auto_TR2S_SENSE_6_2_raw_act_both.csv --input_w /Users/papo/Sync/MRdata/IoN_Piglet/MRS_RAY/LWP743_D4/CSI/C2205100_WIP_CSI_PB_auto_TR2S_SENSE_6_2_raw_ref.SDAT --basis_csv /Users/papo/Sync/Projects/PAINT_MRS_CSI/3_0T_basis_threonine_no_MM\n",
      "\n"
     ]
    },
    {
     "name": "stderr",
     "output_type": "stream",
     "text": [
      " 52%|█████▏    | 11/21 [03:30<02:52, 17.26s/it]"
     ]
    },
    {
     "name": "stdout",
     "output_type": "stream",
     "text": [
      "tarquin --rows 3 --cols 2 --input /Users/papo/Sync/MRdata/IoN_Piglet/MRS_RAY/LWP744_D4/MRS/C7391819_WIP_CSI_PB_auto_TR2S_SENSE_6_2_raw_act.SDAT --output_csv /Users/papo/Sync/MRdata/IoN_Piglet/MRS_RAY/LWP744_D4/MRS/C7391819_WIP_CSI_PB_auto_TR2S_SENSE_6_2_raw_act_both.csv --input_w /Users/papo/Sync/MRdata/IoN_Piglet/MRS_RAY/LWP744_D4/MRS/C7391819_WIP_CSI_PB_auto_TR2S_SENSE_6_2_raw_ref.SDAT --basis_csv /Users/papo/Sync/Projects/PAINT_MRS_CSI/3_0T_basis_threonine_no_MM\n",
      "\n"
     ]
    },
    {
     "name": "stderr",
     "output_type": "stream",
     "text": [
      " 57%|█████▋    | 12/21 [03:47<02:36, 17.35s/it]"
     ]
    },
    {
     "name": "stdout",
     "output_type": "stream",
     "text": [
      "tarquin --rows 3 --cols 2 --input /Users/papo/Sync/MRdata/IoN_Piglet/MRS_RAY/LWP745_D4/CSI/C2715828_WIP_CSI_PB_auto_TR2S_SENSE_6_2_raw_act.SDAT --output_csv /Users/papo/Sync/MRdata/IoN_Piglet/MRS_RAY/LWP745_D4/CSI/C2715828_WIP_CSI_PB_auto_TR2S_SENSE_6_2_raw_act_both.csv --input_w /Users/papo/Sync/MRdata/IoN_Piglet/MRS_RAY/LWP745_D4/CSI/C2715828_WIP_CSI_PB_auto_TR2S_SENSE_6_2_raw_ref.SDAT --basis_csv /Users/papo/Sync/Projects/PAINT_MRS_CSI/3_0T_basis_threonine_no_MM\n",
      "\n"
     ]
    },
    {
     "name": "stderr",
     "output_type": "stream",
     "text": [
      " 62%|██████▏   | 13/21 [04:03<02:13, 16.74s/it]"
     ]
    },
    {
     "name": "stdout",
     "output_type": "stream",
     "text": [
      "tarquin --rows 3 --cols 2 --input /Users/papo/Sync/MRdata/IoN_Piglet/MRS_RAY/LWP746_D4/CSI/C2529111_WIP_CSI_PB_auto_TR2S_SENSE_6_2_raw_act.SDAT --output_csv /Users/papo/Sync/MRdata/IoN_Piglet/MRS_RAY/LWP746_D4/CSI/C2529111_WIP_CSI_PB_auto_TR2S_SENSE_6_2_raw_act_both.csv --input_w /Users/papo/Sync/MRdata/IoN_Piglet/MRS_RAY/LWP746_D4/CSI/C2529111_WIP_CSI_PB_auto_TR2S_SENSE_6_2_raw_ref.SDAT --basis_csv /Users/papo/Sync/Projects/PAINT_MRS_CSI/3_0T_basis_threonine_no_MM\n",
      "\n"
     ]
    },
    {
     "name": "stderr",
     "output_type": "stream",
     "text": [
      " 67%|██████▋   | 14/21 [04:19<01:56, 16.71s/it]"
     ]
    },
    {
     "name": "stdout",
     "output_type": "stream",
     "text": [
      "tarquin --rows 3 --cols 2 --input /Users/papo/Sync/MRdata/IoN_Piglet/MRS_RAY/LWP747/MRS/C9046523_WIP_CSI_PB_auto_TR2S_SENSE_6_2_raw_act.SDAT --output_csv /Users/papo/Sync/MRdata/IoN_Piglet/MRS_RAY/LWP747/MRS/C9046523_WIP_CSI_PB_auto_TR2S_SENSE_6_2_raw_act_both.csv --input_w /Users/papo/Sync/MRdata/IoN_Piglet/MRS_RAY/LWP747/MRS/C9046523_WIP_CSI_PB_auto_TR2S_SENSE_6_2_raw_ref.SDAT --basis_csv /Users/papo/Sync/Projects/PAINT_MRS_CSI/3_0T_basis_threonine_no_MM\n",
      "\n"
     ]
    },
    {
     "name": "stderr",
     "output_type": "stream",
     "text": [
      " 71%|███████▏  | 15/21 [04:39<01:44, 17.47s/it]"
     ]
    },
    {
     "name": "stdout",
     "output_type": "stream",
     "text": [
      "tarquin --rows 3 --cols 2 --input /Users/papo/Sync/MRdata/IoN_Piglet/MRS_RAY/LWP748/MRS/C0295714_WIP_CSI_PB_auto_TR2S_SENSE_6_2_raw_act.SDAT --output_csv /Users/papo/Sync/MRdata/IoN_Piglet/MRS_RAY/LWP748/MRS/C0295714_WIP_CSI_PB_auto_TR2S_SENSE_6_2_raw_act_both.csv --input_w /Users/papo/Sync/MRdata/IoN_Piglet/MRS_RAY/LWP748/MRS/C0295714_WIP_CSI_PB_auto_TR2S_SENSE_6_2_raw_ref.SDAT --basis_csv /Users/papo/Sync/Projects/PAINT_MRS_CSI/3_0T_basis_threonine_no_MM\n",
      "\n"
     ]
    },
    {
     "name": "stderr",
     "output_type": "stream",
     "text": [
      " 76%|███████▌  | 16/21 [04:59<01:31, 18.33s/it]"
     ]
    },
    {
     "name": "stdout",
     "output_type": "stream",
     "text": [
      "tarquin --rows 3 --cols 2 --input /Users/papo/Sync/MRdata/IoN_Piglet/MRS_RAY/LWP749_D4/CSI/C9702471_WIP_CSI_PB_auto_TR2S_SENSE_6_2_raw_act.SDAT --output_csv /Users/papo/Sync/MRdata/IoN_Piglet/MRS_RAY/LWP749_D4/CSI/C9702471_WIP_CSI_PB_auto_TR2S_SENSE_6_2_raw_act_both.csv --input_w /Users/papo/Sync/MRdata/IoN_Piglet/MRS_RAY/LWP749_D4/CSI/C9702471_WIP_CSI_PB_auto_TR2S_SENSE_6_2_raw_ref.SDAT --basis_csv /Users/papo/Sync/Projects/PAINT_MRS_CSI/3_0T_basis_threonine_no_MM\n",
      "\n"
     ]
    },
    {
     "name": "stderr",
     "output_type": "stream",
     "text": [
      " 81%|████████  | 17/21 [05:14<01:08, 17.23s/it]"
     ]
    },
    {
     "name": "stdout",
     "output_type": "stream",
     "text": [
      "tarquin --rows 3 --cols 2 --input /Users/papo/Sync/MRdata/IoN_Piglet/MRS_RAY/LWP751_D4/CSI/C2454394_WIP_CSI_PB_auto_TR2S_SENSE_6_2_raw_act.SDAT --output_csv /Users/papo/Sync/MRdata/IoN_Piglet/MRS_RAY/LWP751_D4/CSI/C2454394_WIP_CSI_PB_auto_TR2S_SENSE_6_2_raw_act_both.csv --input_w /Users/papo/Sync/MRdata/IoN_Piglet/MRS_RAY/LWP751_D4/CSI/C2454394_WIP_CSI_PB_auto_TR2S_SENSE_6_2_raw_ref.SDAT --basis_csv /Users/papo/Sync/Projects/PAINT_MRS_CSI/3_0T_basis_threonine_no_MM\n",
      "\n"
     ]
    },
    {
     "name": "stderr",
     "output_type": "stream",
     "text": [
      " 86%|████████▌ | 18/21 [05:31<00:52, 17.36s/it]"
     ]
    },
    {
     "name": "stdout",
     "output_type": "stream",
     "text": [
      "tarquin --rows 3 --cols 2 --input /Users/papo/Sync/MRdata/IoN_Piglet/MRS_RAY/LWP753/MRS/C0668193_WIP_CSI_PB_auto_TR2S_SENSE_7_2_raw_act.SDAT --output_csv /Users/papo/Sync/MRdata/IoN_Piglet/MRS_RAY/LWP753/MRS/C0668193_WIP_CSI_PB_auto_TR2S_SENSE_7_2_raw_act_both.csv --input_w /Users/papo/Sync/MRdata/IoN_Piglet/MRS_RAY/LWP753/MRS/C0668193_WIP_CSI_PB_auto_TR2S_SENSE_7_2_raw_ref.SDAT --basis_csv /Users/papo/Sync/Projects/PAINT_MRS_CSI/3_0T_basis_threonine_no_MM\n",
      "\n"
     ]
    },
    {
     "name": "stderr",
     "output_type": "stream",
     "text": [
      " 90%|█████████ | 19/21 [05:45<00:32, 16.39s/it]"
     ]
    },
    {
     "name": "stdout",
     "output_type": "stream",
     "text": [
      "tarquin --rows 3 --cols 2 --input /Users/papo/Sync/MRdata/IoN_Piglet/MRS_RAY/LWP754/MRS/C2172306_WIP_CSI_PB_auto_TR2S_SENSE_7_2_raw_act.SDAT --output_csv /Users/papo/Sync/MRdata/IoN_Piglet/MRS_RAY/LWP754/MRS/C2172306_WIP_CSI_PB_auto_TR2S_SENSE_7_2_raw_act_both.csv --input_w /Users/papo/Sync/MRdata/IoN_Piglet/MRS_RAY/LWP754/MRS/C2172306_WIP_CSI_PB_auto_TR2S_SENSE_7_2_raw_ref.SDAT --basis_csv /Users/papo/Sync/Projects/PAINT_MRS_CSI/3_0T_basis_threonine_no_MM\n",
      "\n"
     ]
    },
    {
     "name": "stderr",
     "output_type": "stream",
     "text": [
      " 95%|█████████▌| 20/21 [05:58<00:15, 15.18s/it]"
     ]
    },
    {
     "name": "stdout",
     "output_type": "stream",
     "text": [
      "tarquin --rows 3 --cols 2 --input /Users/papo/Sync/MRdata/IoN_Piglet/MRS_RAY/LWP_735_D4_moved/1H_CSI/C5040889_WIP_CSI_PB_auto_TR2S_SENSE_13_2_raw_act.SDAT --output_csv /Users/papo/Sync/MRdata/IoN_Piglet/MRS_RAY/LWP_735_D4_moved/1H_CSI/C5040889_WIP_CSI_PB_auto_TR2S_SENSE_13_2_raw_act_both.csv --input_w /Users/papo/Sync/MRdata/IoN_Piglet/MRS_RAY/LWP_735_D4_moved/1H_CSI/C5040889_WIP_CSI_PB_auto_TR2S_SENSE_13_2_raw_ref.SDAT --basis_csv /Users/papo/Sync/Projects/PAINT_MRS_CSI/3_0T_basis_threonine_no_MM\n",
      "\n"
     ]
    },
    {
     "name": "stderr",
     "output_type": "stream",
     "text": [
      "100%|██████████| 21/21 [06:17<00:00, 17.98s/it]\n"
     ]
    }
   ],
   "source": [
    "data_folder = Path('/Users/papo/Sync/MRdata/IoN_Piglet/MRS_RAY')\n",
    "# data_folder = Path('/Users/papo/Downloads/LWP739_D4')\n",
    "basis_folder = Path('/Users/papo/Sync/Projects/PAINT_MRS_CSI/3_0T_basis_threonine_no_MM')\n",
    "\n",
    "sdat_files = [f for f in sorted(data_folder.rglob('*')) if (\"act.sdat\" in f.name.lower() and \"csi\" in f.name.lower())]\n",
    "for file in tqdm(sdat_files):\n",
    "    ref = Path(f'{str(file)[0:-8]}ref.SDAT')\n",
    "    csv = Path(f'{str(file)[0:-5]}_both.csv')\n",
    "    pdf = Path(f'{str(file)[0:-4]}pdf')\n",
    "    if not csv.is_file():\n",
    "        # command = f'tarquin --rows 3 --cols 2 --input {file} --output_pdf {pdf} --output_csv {csv} --input_w {ref} --basis_csv {basis_folder}'\n",
    "        command = f'tarquin --rows 3 --cols 2 --input {file} --output_csv {csv} --input_w {ref} --basis_csv {basis_folder}'\n",
    "        print(f'{command}\\n') \n",
    "        os.system(command)\n"
   ]
  },
  {
   "cell_type": "code",
   "execution_count": 57,
   "metadata": {},
   "outputs": [
    {
     "name": "stdout",
     "output_type": "stream",
     "text": [
      "21\n"
     ]
    }
   ],
   "source": [
    "# base_folder = Path('/Users/papo/Sync/MRdata/IoN Piglet/MRS_RAY')\n",
    "\n",
    "# sdat_files = [f for f in sorted(base_folder.rglob('*')) if (\"aref.sdat\" in f.name.lower() and \"csi\" in f.name.lower())]\n",
    "# print(len(sdat_files))\n",
    "# for file in sdat_files:\n",
    "#     # r = file.rename(f'{str(file)[0:-8]}ref.SDAT')\n",
    "#     # file.rename(f'{str(file)[0:-9]}act.SDAT')\n",
    "\n",
    "    "
   ]
  },
  {
   "cell_type": "code",
   "execution_count": 298,
   "metadata": {},
   "outputs": [
    {
     "name": "stderr",
     "output_type": "stream",
     "text": [
      "b'Skipping line 18: expected 25 fields, saw 34\\nSkipping line 19: expected 25 fields, saw 34\\nSkipping line 20: expected 25 fields, saw 34\\nSkipping line 21: expected 25 fields, saw 34\\nSkipping line 22: expected 25 fields, saw 34\\nSkipping line 23: expected 25 fields, saw 34\\nSkipping line 24: expected 25 fields, saw 34\\n'\n",
      "b'Skipping line 18: expected 25 fields, saw 34\\nSkipping line 19: expected 25 fields, saw 34\\nSkipping line 20: expected 25 fields, saw 34\\nSkipping line 21: expected 25 fields, saw 34\\nSkipping line 22: expected 25 fields, saw 34\\nSkipping line 23: expected 25 fields, saw 34\\nSkipping line 24: expected 25 fields, saw 34\\n'\n",
      "b'Skipping line 18: expected 25 fields, saw 34\\nSkipping line 19: expected 25 fields, saw 34\\nSkipping line 20: expected 25 fields, saw 34\\nSkipping line 21: expected 25 fields, saw 34\\nSkipping line 22: expected 25 fields, saw 34\\nSkipping line 23: expected 25 fields, saw 34\\nSkipping line 24: expected 25 fields, saw 34\\n'\n",
      "b'Skipping line 18: expected 25 fields, saw 34\\nSkipping line 19: expected 25 fields, saw 34\\nSkipping line 20: expected 25 fields, saw 34\\nSkipping line 21: expected 25 fields, saw 34\\nSkipping line 22: expected 25 fields, saw 34\\nSkipping line 23: expected 25 fields, saw 34\\nSkipping line 24: expected 25 fields, saw 34\\n'\n",
      "b'Skipping line 18: expected 25 fields, saw 34\\nSkipping line 19: expected 25 fields, saw 34\\nSkipping line 20: expected 25 fields, saw 34\\nSkipping line 21: expected 25 fields, saw 34\\nSkipping line 22: expected 25 fields, saw 34\\nSkipping line 23: expected 25 fields, saw 34\\nSkipping line 24: expected 25 fields, saw 34\\n'\n",
      "b'Skipping line 18: expected 25 fields, saw 34\\nSkipping line 19: expected 25 fields, saw 34\\nSkipping line 20: expected 25 fields, saw 34\\nSkipping line 21: expected 25 fields, saw 34\\nSkipping line 22: expected 25 fields, saw 34\\nSkipping line 23: expected 25 fields, saw 34\\nSkipping line 24: expected 25 fields, saw 34\\n'\n",
      "b'Skipping line 18: expected 25 fields, saw 34\\nSkipping line 19: expected 25 fields, saw 34\\nSkipping line 20: expected 25 fields, saw 34\\nSkipping line 21: expected 25 fields, saw 34\\nSkipping line 22: expected 25 fields, saw 34\\nSkipping line 23: expected 25 fields, saw 34\\nSkipping line 24: expected 25 fields, saw 34\\n'\n",
      "b'Skipping line 18: expected 25 fields, saw 34\\nSkipping line 19: expected 25 fields, saw 34\\nSkipping line 20: expected 25 fields, saw 34\\nSkipping line 21: expected 25 fields, saw 34\\nSkipping line 22: expected 25 fields, saw 34\\nSkipping line 23: expected 25 fields, saw 34\\nSkipping line 24: expected 25 fields, saw 34\\n'\n",
      "b'Skipping line 18: expected 25 fields, saw 34\\nSkipping line 19: expected 25 fields, saw 34\\nSkipping line 20: expected 25 fields, saw 34\\nSkipping line 21: expected 25 fields, saw 34\\nSkipping line 22: expected 25 fields, saw 34\\nSkipping line 23: expected 25 fields, saw 34\\nSkipping line 24: expected 25 fields, saw 34\\n'\n",
      "b'Skipping line 18: expected 25 fields, saw 34\\nSkipping line 19: expected 25 fields, saw 34\\nSkipping line 20: expected 25 fields, saw 34\\nSkipping line 21: expected 25 fields, saw 34\\nSkipping line 22: expected 25 fields, saw 34\\nSkipping line 23: expected 25 fields, saw 34\\nSkipping line 24: expected 25 fields, saw 34\\n'\n",
      "b'Skipping line 18: expected 25 fields, saw 34\\nSkipping line 19: expected 25 fields, saw 34\\nSkipping line 20: expected 25 fields, saw 34\\nSkipping line 21: expected 25 fields, saw 34\\nSkipping line 22: expected 25 fields, saw 34\\nSkipping line 23: expected 25 fields, saw 34\\nSkipping line 24: expected 25 fields, saw 34\\n'\n",
      "b'Skipping line 18: expected 25 fields, saw 34\\nSkipping line 19: expected 25 fields, saw 34\\nSkipping line 20: expected 25 fields, saw 34\\nSkipping line 21: expected 25 fields, saw 34\\nSkipping line 22: expected 25 fields, saw 34\\nSkipping line 23: expected 25 fields, saw 34\\nSkipping line 24: expected 25 fields, saw 34\\n'\n",
      "b'Skipping line 18: expected 25 fields, saw 34\\nSkipping line 19: expected 25 fields, saw 34\\nSkipping line 20: expected 25 fields, saw 34\\nSkipping line 21: expected 25 fields, saw 34\\nSkipping line 22: expected 25 fields, saw 34\\nSkipping line 23: expected 25 fields, saw 34\\nSkipping line 24: expected 25 fields, saw 34\\n'\n",
      "b'Skipping line 18: expected 25 fields, saw 34\\nSkipping line 19: expected 25 fields, saw 34\\nSkipping line 20: expected 25 fields, saw 34\\nSkipping line 21: expected 25 fields, saw 34\\nSkipping line 22: expected 25 fields, saw 34\\nSkipping line 23: expected 25 fields, saw 34\\nSkipping line 24: expected 25 fields, saw 34\\n'\n",
      "b'Skipping line 18: expected 25 fields, saw 34\\nSkipping line 19: expected 25 fields, saw 34\\nSkipping line 20: expected 25 fields, saw 34\\nSkipping line 21: expected 25 fields, saw 34\\nSkipping line 22: expected 25 fields, saw 34\\nSkipping line 23: expected 25 fields, saw 34\\nSkipping line 24: expected 25 fields, saw 34\\n'\n",
      "b'Skipping line 18: expected 25 fields, saw 34\\nSkipping line 19: expected 25 fields, saw 34\\nSkipping line 20: expected 25 fields, saw 34\\nSkipping line 21: expected 25 fields, saw 34\\nSkipping line 22: expected 25 fields, saw 34\\nSkipping line 23: expected 25 fields, saw 34\\nSkipping line 24: expected 25 fields, saw 34\\n'\n",
      "b'Skipping line 18: expected 25 fields, saw 34\\nSkipping line 19: expected 25 fields, saw 34\\nSkipping line 20: expected 25 fields, saw 34\\nSkipping line 21: expected 25 fields, saw 34\\nSkipping line 22: expected 25 fields, saw 34\\nSkipping line 23: expected 25 fields, saw 34\\nSkipping line 24: expected 25 fields, saw 34\\n'\n",
      "b'Skipping line 18: expected 25 fields, saw 34\\nSkipping line 19: expected 25 fields, saw 34\\nSkipping line 20: expected 25 fields, saw 34\\nSkipping line 21: expected 25 fields, saw 34\\nSkipping line 22: expected 25 fields, saw 34\\nSkipping line 23: expected 25 fields, saw 34\\nSkipping line 24: expected 25 fields, saw 34\\n'\n",
      "b'Skipping line 18: expected 25 fields, saw 34\\nSkipping line 19: expected 25 fields, saw 34\\nSkipping line 20: expected 25 fields, saw 34\\nSkipping line 21: expected 25 fields, saw 34\\nSkipping line 22: expected 25 fields, saw 34\\nSkipping line 23: expected 25 fields, saw 34\\nSkipping line 24: expected 25 fields, saw 34\\n'\n",
      "b'Skipping line 18: expected 25 fields, saw 34\\nSkipping line 19: expected 25 fields, saw 34\\nSkipping line 20: expected 25 fields, saw 34\\nSkipping line 21: expected 25 fields, saw 34\\nSkipping line 22: expected 25 fields, saw 34\\nSkipping line 23: expected 25 fields, saw 34\\nSkipping line 24: expected 25 fields, saw 34\\n'\n",
      "b'Skipping line 18: expected 25 fields, saw 34\\nSkipping line 19: expected 25 fields, saw 34\\nSkipping line 20: expected 25 fields, saw 34\\nSkipping line 21: expected 25 fields, saw 34\\nSkipping line 22: expected 25 fields, saw 34\\nSkipping line 23: expected 25 fields, saw 34\\nSkipping line 24: expected 25 fields, saw 34\\n'\n",
      "b'Skipping line 18: expected 25 fields, saw 34\\nSkipping line 19: expected 25 fields, saw 34\\nSkipping line 20: expected 25 fields, saw 34\\nSkipping line 21: expected 25 fields, saw 34\\nSkipping line 22: expected 25 fields, saw 34\\nSkipping line 23: expected 25 fields, saw 34\\nSkipping line 24: expected 25 fields, saw 34\\n'\n",
      "b'Skipping line 18: expected 25 fields, saw 34\\nSkipping line 19: expected 25 fields, saw 34\\nSkipping line 20: expected 25 fields, saw 34\\nSkipping line 21: expected 25 fields, saw 34\\nSkipping line 22: expected 25 fields, saw 34\\nSkipping line 23: expected 25 fields, saw 34\\nSkipping line 24: expected 25 fields, saw 34\\n'\n",
      "b'Skipping line 18: expected 25 fields, saw 34\\nSkipping line 19: expected 25 fields, saw 34\\nSkipping line 20: expected 25 fields, saw 34\\nSkipping line 21: expected 25 fields, saw 34\\nSkipping line 22: expected 25 fields, saw 34\\nSkipping line 23: expected 25 fields, saw 34\\nSkipping line 24: expected 25 fields, saw 34\\n'\n",
      "b'Skipping line 18: expected 25 fields, saw 34\\nSkipping line 19: expected 25 fields, saw 34\\nSkipping line 20: expected 25 fields, saw 34\\nSkipping line 21: expected 25 fields, saw 34\\nSkipping line 22: expected 25 fields, saw 34\\nSkipping line 23: expected 25 fields, saw 34\\nSkipping line 24: expected 25 fields, saw 34\\n'\n",
      "b'Skipping line 18: expected 25 fields, saw 34\\nSkipping line 19: expected 25 fields, saw 34\\nSkipping line 20: expected 25 fields, saw 34\\nSkipping line 21: expected 25 fields, saw 34\\nSkipping line 22: expected 25 fields, saw 34\\nSkipping line 23: expected 25 fields, saw 34\\nSkipping line 24: expected 25 fields, saw 34\\n'\n",
      "b'Skipping line 18: expected 25 fields, saw 34\\nSkipping line 19: expected 25 fields, saw 34\\nSkipping line 20: expected 25 fields, saw 34\\nSkipping line 21: expected 25 fields, saw 34\\nSkipping line 22: expected 25 fields, saw 34\\nSkipping line 23: expected 25 fields, saw 34\\nSkipping line 24: expected 25 fields, saw 34\\n'\n",
      "b'Skipping line 18: expected 25 fields, saw 34\\nSkipping line 19: expected 25 fields, saw 34\\nSkipping line 20: expected 25 fields, saw 34\\nSkipping line 21: expected 25 fields, saw 34\\nSkipping line 22: expected 25 fields, saw 34\\nSkipping line 23: expected 25 fields, saw 34\\nSkipping line 24: expected 25 fields, saw 34\\n'\n",
      "b'Skipping line 18: expected 25 fields, saw 34\\nSkipping line 19: expected 25 fields, saw 34\\nSkipping line 20: expected 25 fields, saw 34\\nSkipping line 21: expected 25 fields, saw 34\\nSkipping line 22: expected 25 fields, saw 34\\nSkipping line 23: expected 25 fields, saw 34\\nSkipping line 24: expected 25 fields, saw 34\\n'\n",
      "b'Skipping line 18: expected 25 fields, saw 34\\nSkipping line 19: expected 25 fields, saw 34\\nSkipping line 20: expected 25 fields, saw 34\\nSkipping line 21: expected 25 fields, saw 34\\nSkipping line 22: expected 25 fields, saw 34\\nSkipping line 23: expected 25 fields, saw 34\\nSkipping line 24: expected 25 fields, saw 34\\n'\n",
      "b'Skipping line 18: expected 25 fields, saw 34\\nSkipping line 19: expected 25 fields, saw 34\\nSkipping line 20: expected 25 fields, saw 34\\nSkipping line 21: expected 25 fields, saw 34\\nSkipping line 22: expected 25 fields, saw 34\\nSkipping line 23: expected 25 fields, saw 34\\nSkipping line 24: expected 25 fields, saw 34\\n'\n",
      "b'Skipping line 18: expected 25 fields, saw 34\\nSkipping line 19: expected 25 fields, saw 34\\nSkipping line 20: expected 25 fields, saw 34\\nSkipping line 21: expected 25 fields, saw 34\\nSkipping line 22: expected 25 fields, saw 34\\nSkipping line 23: expected 25 fields, saw 34\\nSkipping line 24: expected 25 fields, saw 34\\n'\n",
      "b'Skipping line 18: expected 25 fields, saw 34\\nSkipping line 19: expected 25 fields, saw 34\\nSkipping line 20: expected 25 fields, saw 34\\nSkipping line 21: expected 25 fields, saw 34\\nSkipping line 22: expected 25 fields, saw 34\\nSkipping line 23: expected 25 fields, saw 34\\nSkipping line 24: expected 25 fields, saw 34\\n'\n",
      "b'Skipping line 18: expected 25 fields, saw 34\\nSkipping line 19: expected 25 fields, saw 34\\nSkipping line 20: expected 25 fields, saw 34\\nSkipping line 21: expected 25 fields, saw 34\\nSkipping line 22: expected 25 fields, saw 34\\nSkipping line 23: expected 25 fields, saw 34\\nSkipping line 24: expected 25 fields, saw 34\\n'\n",
      "b'Skipping line 18: expected 25 fields, saw 34\\nSkipping line 19: expected 25 fields, saw 34\\nSkipping line 20: expected 25 fields, saw 34\\nSkipping line 21: expected 25 fields, saw 34\\nSkipping line 22: expected 25 fields, saw 34\\nSkipping line 23: expected 25 fields, saw 34\\nSkipping line 24: expected 25 fields, saw 34\\n'\n",
      "b'Skipping line 18: expected 25 fields, saw 34\\nSkipping line 19: expected 25 fields, saw 34\\nSkipping line 20: expected 25 fields, saw 34\\nSkipping line 21: expected 25 fields, saw 34\\nSkipping line 22: expected 25 fields, saw 34\\nSkipping line 23: expected 25 fields, saw 34\\nSkipping line 24: expected 25 fields, saw 34\\n'\n",
      "b'Skipping line 18: expected 25 fields, saw 34\\nSkipping line 19: expected 25 fields, saw 34\\nSkipping line 20: expected 25 fields, saw 34\\nSkipping line 21: expected 25 fields, saw 34\\nSkipping line 22: expected 25 fields, saw 34\\nSkipping line 23: expected 25 fields, saw 34\\nSkipping line 24: expected 25 fields, saw 34\\n'\n",
      "b'Skipping line 18: expected 25 fields, saw 34\\nSkipping line 19: expected 25 fields, saw 34\\nSkipping line 20: expected 25 fields, saw 34\\nSkipping line 21: expected 25 fields, saw 34\\nSkipping line 22: expected 25 fields, saw 34\\nSkipping line 23: expected 25 fields, saw 34\\nSkipping line 24: expected 25 fields, saw 34\\n'\n",
      "b'Skipping line 18: expected 25 fields, saw 34\\nSkipping line 19: expected 25 fields, saw 34\\nSkipping line 20: expected 25 fields, saw 34\\nSkipping line 21: expected 25 fields, saw 34\\nSkipping line 22: expected 25 fields, saw 34\\nSkipping line 23: expected 25 fields, saw 34\\nSkipping line 24: expected 25 fields, saw 34\\n'\n",
      "b'Skipping line 18: expected 25 fields, saw 34\\nSkipping line 19: expected 25 fields, saw 34\\nSkipping line 20: expected 25 fields, saw 34\\nSkipping line 21: expected 25 fields, saw 34\\nSkipping line 22: expected 25 fields, saw 34\\nSkipping line 23: expected 25 fields, saw 34\\nSkipping line 24: expected 25 fields, saw 34\\n'\n",
      "b'Skipping line 18: expected 25 fields, saw 34\\nSkipping line 19: expected 25 fields, saw 34\\nSkipping line 20: expected 25 fields, saw 34\\nSkipping line 21: expected 25 fields, saw 34\\nSkipping line 22: expected 25 fields, saw 34\\nSkipping line 23: expected 25 fields, saw 34\\nSkipping line 24: expected 25 fields, saw 34\\n'\n",
      "b'Skipping line 18: expected 25 fields, saw 34\\nSkipping line 19: expected 25 fields, saw 34\\nSkipping line 20: expected 25 fields, saw 34\\nSkipping line 21: expected 25 fields, saw 34\\nSkipping line 22: expected 25 fields, saw 34\\nSkipping line 23: expected 25 fields, saw 34\\nSkipping line 24: expected 25 fields, saw 34\\n'\n",
      "b'Skipping line 18: expected 25 fields, saw 34\\nSkipping line 19: expected 25 fields, saw 34\\nSkipping line 20: expected 25 fields, saw 34\\nSkipping line 21: expected 25 fields, saw 34\\nSkipping line 22: expected 25 fields, saw 34\\nSkipping line 23: expected 25 fields, saw 34\\nSkipping line 24: expected 25 fields, saw 34\\n'\n"
     ]
    }
   ],
   "source": [
    "csv_files = [f for f in sorted(data_folder.rglob('*'), key=lambda x:x.parent.parent.stem[4:6]) if (\"act_both.csv\" in f.name.lower() and \"csi\" in f.name.lower())]\n",
    "\n",
    "\n",
    "def pull_from_csv(csv_file, row=3, header=1):\n",
    "        lwp_ind = str(csv_file).lower().find('lwp')\n",
    "        lwp = str(csv_file)[lwp_ind:lwp_ind+6]\n",
    "        df = pd.read_csv(csv_file, header=[header], error_bad_lines=False)\n",
    "        try:\n",
    "            return [lwp,*df.iloc[row].name]\n",
    "        except:\n",
    "            return [lwp,*df.iloc[row]]\n",
    "\n",
    "data_list = []\n",
    "GM_row = 5\n",
    "for file in csv_files:\n",
    "    data_list.append([*pull_from_csv(file,row=GM_row),*pull_from_csv(file,row=GM_row+8),*pull_from_csv(file,header=16,row=GM_row+1)])\n",
    "my_columns = list(pd.read_csv(file, header=[1], error_bad_lines=False))\n",
    "my_errors = [item+' Error (SD)' for item in my_columns]\n",
    "my_diagnostics = pull_from_csv(file,row=0, header=16)    \n",
    "df = pd.DataFrame(data_list, columns=['LWP', *my_columns, 'Error for LWP', *my_errors,*my_diagnostics ])\n",
    "df.to_excel('GM.xlsx', index=False)"
   ]
  },
  {
   "cell_type": "code",
   "execution_count": null,
   "metadata": {},
   "outputs": [],
   "source": [
    "# csv_files = [f for f in sorted(data_folder.rglob('*'), key=lambda x:x.parent.parent.stem[4:6]) if (\"act.csv\" in f.name.lower() and \"csi\" in f.name.lower())]\n",
    "# all_ratios = []\n",
    "# for (i,f) in enumerate(csv_files):\n",
    "#     print(i,f)\n",
    "#     print(f.parent.parent.stem)\n",
    "#     df = pd.read_csv(f, header=[1], error_bad_lines=False)\n",
    "#     # Lac NAA amplitudes and ratio (loc 3 for voxel 5,5):\n",
    "#     TNAA = float(df.loc[3]['TNAA'])\n",
    "#     TLac = float(df.loc[3]['Threonine']) + float(df.loc[3]['Lac'])\n",
    "    \n",
    "#     # Lac2NAA error (loc 9 for voxel 5,5):\n",
    "#     TNAA_err = float(df.loc[9]['TNAA'])\n",
    "#     TLac_err = np.sqrt( float(df.loc[9]['Lac']) **2 + float(df.loc[9]['Threonine']) **2 ) \n",
    "#     try:\n",
    "#         Lac2NAA = TLac/TNAA\n",
    "#         Lac2NAA_err = np.sqrt( (TLac_err/TLac) **2 + (TNAA_err/TNAA)**2 ) * Lac2NAA\n",
    "\n",
    "#     except:\n",
    "#         Lac2NAA = np.nan\n",
    "#         Lac2NAA_err = np.nan   \n",
    "#     print(f'{Lac2NAA=}')\n",
    "#     print(f'{Lac2NAA_err=}')\n",
    "\n",
    "#     GM_ratios.append([f.parent.parent.stem, Lac2NAA, Lac2NAA_err])\n",
    "\n",
    "\n",
    "# all_ratios_df = pd.DataFrame(all_ratios, columns=['LWP', 'Lac2NAA', 'Lac2NAA_error'])\n",
    "\n",
    "\n"
   ]
  },
  {
   "cell_type": "code",
   "execution_count": 290,
   "metadata": {},
   "outputs": [
    {
     "data": {
      "text/plain": [
       "['LWP754',\n",
       " '3',\n",
       " '5',\n",
       " '1',\n",
       " '1.204875e+00',\n",
       " '6.582652e+01',\n",
       " '9.700046e+01',\n",
       " '0.000000e+00',\n",
       " '4.966804e-02',\n",
       " '6.347656e+00',\n",
       " '2.561138e+00',\n",
       " '3.085851e+00',\n",
       " '3.085851e+00',\n",
       " '1.236194e-02',\n",
       " '1.266397e-02',\n",
       " '4.702534e+00',\n",
       " '1.000000e+00',\n",
       " '7.563320e+01',\n",
       " '3.606723e-02',\n",
       " '-5.672954e+00',\n",
       " '-5.713701e+00',\n",
       " '2.812241e+01',\n",
       " '9.251177e+00',\n",
       " '7.238701e-02',\n",
       " '-2.197266e+00',\n",
       " '2.220662e+03',\n",
       " '2.807239e-01',\n",
       " '4.882812e-01',\n",
       " '3.796067e-02',\n",
       " '6.137855e-02',\n",
       " '-9.426869e-02',\n",
       " '5.738963e-03',\n",
       " '7.468468e+00',\n",
       " '6.744866e+00']"
      ]
     },
     "execution_count": 290,
     "metadata": {},
     "output_type": "execute_result"
    }
   ],
   "source": [
    "pull_from_csv(csv,header=16,row=GM_row+1)\n"
   ]
  },
  {
   "cell_type": "code",
   "execution_count": 278,
   "metadata": {},
   "outputs": [
    {
     "name": "stderr",
     "output_type": "stream",
     "text": [
      "b'Skipping line 18: expected 25 fields, saw 34\\nSkipping line 19: expected 25 fields, saw 34\\nSkipping line 20: expected 25 fields, saw 34\\nSkipping line 21: expected 25 fields, saw 34\\nSkipping line 22: expected 25 fields, saw 34\\nSkipping line 23: expected 25 fields, saw 34\\nSkipping line 24: expected 25 fields, saw 34\\n'\n"
     ]
    },
    {
     "data": {
      "text/plain": [
       "['LWP733',\n",
       " '3',\n",
       " '5',\n",
       " '1',\n",
       " '1.714251e+01',\n",
       " '0.000000e+00',\n",
       " '7.789750e+00',\n",
       " '1.964659e+01',\n",
       " '1.002114e+01',\n",
       " '3.487906e+00',\n",
       " '2.681192e+00',\n",
       " '4.801077e+00',\n",
       " '5.680928e+00',\n",
       " '1.209952e+01',\n",
       " '0.000000e+00',\n",
       " '6.621407e+00',\n",
       " '1.185966e-02',\n",
       " '1.017970e+01',\n",
       " '4.776478e+00',\n",
       " '0.000000e+00',\n",
       " '0.000000e+00',\n",
       " '0.000000e+00',\n",
       " '1.383891e+01',\n",
       " '1.019156e+01',\n",
       " '8.264383e+00',\n",
       " '1.048200e+01']"
      ]
     },
     "execution_count": 278,
     "metadata": {},
     "output_type": "execute_result"
    }
   ],
   "source": [
    "\n",
    "def pull_from_csv(csv, row=3, header=1):\n",
    "        lwp_ind = str(csv).lower().find('lwp')\n",
    "        lwp = str(csv)[lwp_ind:lwp_ind+6]\n",
    "        df = pd.read_csv(csv, header=[header], error_bad_lines=False)\n",
    "        try:\n",
    "            return [lwp,*df.iloc[row].name]\n",
    "        except:\n",
    "            return [lwp,*df.iloc[row]]\n",
    "\n",
    "pull_from_csv(csv,row=GM_row)"
   ]
  },
  {
   "cell_type": "code",
   "execution_count": 291,
   "metadata": {},
   "outputs": [
    {
     "data": {
      "text/plain": [
       "['LWP733',\n",
       " 'Row',\n",
       " 'Col',\n",
       " 'Slice',\n",
       " 'Q',\n",
       " 'max res',\n",
       " 'metab ratio',\n",
       " 'peak metab ratio',\n",
       " 'metab FWHM (PPM)',\n",
       " 'metab FWHM (Hz)',\n",
       " 'SNR',\n",
       " 'SNR max',\n",
       " 'SNR metab',\n",
       " 'spec noise',\n",
       " 'td noise',\n",
       " 'ref',\n",
       " 'init beta',\n",
       " 'final beta',\n",
       " 'final beta (PPM)',\n",
       " 'phi0 (deg)',\n",
       " 'phi1 (deg/PPM)',\n",
       " 'water amp',\n",
       " 'water FWHM (Hz)',\n",
       " 'water FWHM (PPM)',\n",
       " 'water freq (Hz)',\n",
       " 'WNR',\n",
       " 'res water amp',\n",
       " 'res water freq',\n",
       " 'baseline dev',\n",
       " 'max baseline',\n",
       " 'min baseline',\n",
       " 'baseline shape',\n",
       " 'initial residual',\n",
       " 'final residual']"
      ]
     },
     "execution_count": 291,
     "metadata": {},
     "output_type": "execute_result"
    }
   ],
   "source": [
    "\n",
    "def pull_from_csv2(csv, row=3, header=1):\n",
    "        lwp_ind = str(csv).lower().find('lwp')\n",
    "        lwp = str(csv)[lwp_ind:lwp_ind+6]\n",
    "\n",
    "        df = pd.read_csv(csv, header=[header], error_bad_lines=False)\n",
    "        return [lwp,*df.iloc[row].name]\n",
    "\n",
    "pull_from_csv2(csv_files[0],row=0, header=16)       \n",
    "my_diagnostics"
   ]
  },
  {
   "cell_type": "code",
   "execution_count": 280,
   "metadata": {},
   "outputs": [
    {
     "data": {
      "text/plain": [
       "['LWP733',\n",
       " 'Row',\n",
       " 'Col',\n",
       " 'Slice',\n",
       " 'Q',\n",
       " 'max res',\n",
       " 'metab ratio',\n",
       " 'peak metab ratio',\n",
       " 'metab FWHM (PPM)',\n",
       " 'metab FWHM (Hz)',\n",
       " 'SNR',\n",
       " 'SNR max',\n",
       " 'SNR metab',\n",
       " 'spec noise',\n",
       " 'td noise',\n",
       " 'ref',\n",
       " 'init beta',\n",
       " 'final beta',\n",
       " 'final beta (PPM)',\n",
       " 'phi0 (deg)',\n",
       " 'phi1 (deg/PPM)',\n",
       " 'water amp',\n",
       " 'water FWHM (Hz)',\n",
       " 'water FWHM (PPM)',\n",
       " 'water freq (Hz)',\n",
       " 'WNR',\n",
       " 'res water amp',\n",
       " 'res water freq',\n",
       " 'baseline dev',\n",
       " 'max baseline',\n",
       " 'min baseline',\n",
       " 'baseline shape',\n",
       " 'initial residual',\n",
       " 'final residual']"
      ]
     },
     "execution_count": 280,
     "metadata": {},
     "output_type": "execute_result"
    }
   ],
   "source": [
    "my_diagnostics"
   ]
  },
  {
   "cell_type": "code",
   "execution_count": 263,
   "metadata": {},
   "outputs": [
    {
     "data": {
      "text/plain": [
       "['Row',\n",
       " 'Col',\n",
       " 'Slice',\n",
       " 'Q',\n",
       " 'max res',\n",
       " 'metab ratio',\n",
       " 'peak metab ratio',\n",
       " 'metab FWHM (PPM)',\n",
       " 'metab FWHM (Hz)',\n",
       " 'SNR',\n",
       " 'SNR max',\n",
       " 'SNR metab',\n",
       " 'spec noise',\n",
       " 'td noise',\n",
       " 'ref',\n",
       " 'init beta',\n",
       " 'final beta',\n",
       " 'final beta (PPM)',\n",
       " 'phi0 (deg)',\n",
       " 'phi1 (deg/PPM)',\n",
       " 'water amp',\n",
       " 'water FWHM (Hz)',\n",
       " 'water FWHM (PPM)',\n",
       " 'water freq (Hz)',\n",
       " 'WNR',\n",
       " 'res water amp',\n",
       " 'res water freq',\n",
       " 'baseline dev',\n",
       " 'max baseline',\n",
       " 'min baseline',\n",
       " 'baseline shape',\n",
       " 'initial residual',\n",
       " 'final residual']"
      ]
     },
     "execution_count": 263,
     "metadata": {},
     "output_type": "execute_result"
    }
   ],
   "source": [
    "df = pd.read_csv(csv_files[0], error_bad_lines=False, header=16)   \n",
    "list(df.iloc[0].name)\n"
   ]
  },
  {
   "cell_type": "code",
   "execution_count": null,
   "metadata": {},
   "outputs": [],
   "source": []
  }
 ],
 "metadata": {
  "interpreter": {
   "hash": "7bcf6ce9e4b9108ac27b6266c0f70d472c30c010d14ee0d62e955855c910a9ea"
  },
  "kernelspec": {
   "display_name": "Python 3.8.2 ('pat3')",
   "language": "python",
   "name": "python3"
  },
  "language_info": {
   "codemirror_mode": {
    "name": "ipython",
    "version": 3
   },
   "file_extension": ".py",
   "mimetype": "text/x-python",
   "name": "python",
   "nbconvert_exporter": "python",
   "pygments_lexer": "ipython3",
   "version": "3.8.2"
  }
 },
 "nbformat": 4,
 "nbformat_minor": 4
}
