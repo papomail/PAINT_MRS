{
 "cells": [
  {
   "cell_type": "code",
   "execution_count": 9,
   "metadata": {},
   "outputs": [
    {
     "name": "stdout",
     "output_type": "stream",
     "text": [
      "Concatenated list:\n",
      "[10, 11, 12, 13, 14, 20, 30, 42]\n"
     ]
    },
    {
     "data": {
      "text/plain": [
       "[10, 20, 11, 30, 12, 42]"
      ]
     },
     "execution_count": 9,
     "metadata": {},
     "output_type": "execute_result"
    }
   ],
   "source": [
    "list1 = [10, 11, 12, 13, 14] \n",
    "list2 = [20, 30, 42] \n",
    "\n",
    "res = [j for i in [list1, list2] for j in i] \n",
    "\n",
    "print (\"Concatenated list:\\n\"+ str(res)) \n",
    "[j for i in zip(list1, list2) for j in i]"
   ]
  },
  {
   "cell_type": "code",
   "execution_count": null,
   "metadata": {},
   "outputs": [],
   "source": []
  }
 ],
 "metadata": {
  "kernelspec": {
   "display_name": "Python 3.9.4 ('pat3')",
   "language": "python",
   "name": "python3"
  },
  "language_info": {
   "codemirror_mode": {
    "name": "ipython",
    "version": 3
   },
   "file_extension": ".py",
   "mimetype": "text/x-python",
   "name": "python",
   "nbconvert_exporter": "python",
   "pygments_lexer": "ipython3",
   "version": "3.9.4"
  },
  "orig_nbformat": 4,
  "vscode": {
   "interpreter": {
    "hash": "655a077b08823ae3900d2693341c1892e24458077ed6fb1ad8d35a6d8f768e5f"
   }
  }
 },
 "nbformat": 4,
 "nbformat_minor": 2
}
