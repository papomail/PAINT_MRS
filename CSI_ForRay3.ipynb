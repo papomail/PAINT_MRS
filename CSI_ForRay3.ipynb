{
 "cells": [
  {
   "cell_type": "code",
   "execution_count": 1,
   "metadata": {},
   "outputs": [],
   "source": [
    "from pathlib import Path\n",
    "import os\n",
    "from tqdm import tqdm\n",
    "import pandas as pd\n",
    "import numpy as np\n",
    "import csv"
   ]
  },
  {
   "cell_type": "code",
   "execution_count": null,
   "metadata": {},
   "outputs": [],
   "source": [
    "def pull_from_csv(csv_file, row=3, header=1):\n",
    "        lwp_ind = str(csv_file).lower().find('lwp')\n",
    "        lwp = str(csv_file)[lwp_ind:lwp_ind+6]\n",
    "        df = pd.read_csv(csv_file, header=[header], error_bad_lines=False)\n",
    "        try:\n",
    "            return [lwp,*df.iloc[row].name]\n",
    "        except:\n",
    "            return [lwp,*df.iloc[row]]\n",
    "        \n",
    "        \n",
    "        \n",
    "        \n",
    "        \n",
    "def met_ratio(df, up, down, error_method='Cramer', error_label=' Error (SD)', output='both'):\n",
    "    if not isinstance(up,list):\n",
    "        up = [up]\n",
    "    if not isinstance(down,list):\n",
    "        down = [down]    \n",
    "   \n",
    "    up_err_name = [f'{item}{error_label}' for item in up]\n",
    "    down_err_name = [f'{item}{error_label}' for item in down]\n",
    "    for item in np.concatenate([up_err_name, down_err_name]).flat:\n",
    "        if item not in df.columns:\n",
    "            raise KeyError(f'Cannot find \"{item}\" in the DataFrame. Please check the given name is correct.')\n",
    "    \n",
    "    up_amp = df[up].astype(float).sum(axis=1)\n",
    "    down_amp = df[down].astype(float).sum(axis=1)\n",
    "    if error_method.lower() == 'cramer':\n",
    "        up_err = (df[up_err_name].astype(float)**2).sum(axis=1) ** 0.5\n",
    "        down_err = (df[down_err_name].astype(float)**2).sum(axis=1) ** 0.5\n",
    "    elif error_method.lower()=='narrow':\n",
    "        up_err = df[up_err_name].astype(float).max(axis=1) \n",
    "        down_err = df[down_err_name].astype(float).max(axis=1) \n",
    "    else:\n",
    "        raise KeyError('Please choose \"Cramer\" or \"Narrow\" for the error_method')\n",
    "    \n",
    "    ratio = up_amp / down_amp\n",
    "    ratio_err = ratio * ((up_err/up_amp)**2 + (down_err/down_amp)**2)**0.5 \n",
    "    \n",
    "    if len(up)>1:\n",
    "        up_label =f'({\"+\".join(up)})'\n",
    "    else:\n",
    "        up_label = f'{\"+\".join(up)}'\n",
    "    if len(down)>1:\n",
    "        down_label = f'({\"+\".join(down)})'\n",
    "    else:\n",
    "        down_label = f'{\"+\".join(down)}'    \n",
    "    col_name = f'{up_label}/{down_label}'   \n",
    "    col_error_name = f'{col_name} Error (SD) {error_method}'\n",
    "    \n",
    "    if output=='both':\n",
    "        return pd.DataFrame({col_name: ratio, col_error_name: ratio_err})\n",
    "    elif output=='ratio':\n",
    "        return pd.DataFrame({col_name: ratio})      \n",
    "    elif output=='error':\n",
    "        return pd.DataFrame({col_error_name: ratio_err})   \n",
    "    else:\n",
    "        raise KeyError('Please choose \"ratio\", \"error\" or \"both\" (default) as output')"
   ]
  },
  {
   "cell_type": "code",
   "execution_count": 3,
   "metadata": {},
   "outputs": [
    {
     "name": "stderr",
     "output_type": "stream",
     "text": [
      "  0%|          | 0/59 [00:00<?, ?it/s]"
     ]
    },
    {
     "name": "stdout",
     "output_type": "stream",
     "text": [
      "tarquin --rows 3 --cols 2 --input /Users/papo/Sync/Projects/PAINT_MRS/INSPIRE_MRS_DATA/LWP710_D1/C7493934_WIP_CSI_PB_auto_TR2S_SENSE_13_2_raw_act.SDAT --output_csv /Users/papo/Sync/Projects/PAINT_MRS/INSPIRE_MRS_DATA/LWP710_D1/C7493934_WIP_CSI_PB_auto_TR2S_SENSE_13_2_raw_act_both.csv --input_w /Users/papo/Sync/Projects/PAINT_MRS/INSPIRE_MRS_DATA/LWP710_D1/C7493934_WIP_CSI_PB_auto_TR2S_SENSE_13_2_raw_ref.SDAT --basis_csv /Users/papo/Sync/Projects/PAINT_MRS_CSI/3_0T_basis_threonine_no_MM\n",
      "\n"
     ]
    },
    {
     "name": "stderr",
     "output_type": "stream",
     "text": [
      "  2%|▏         | 1/59 [00:09<09:06,  9.42s/it]"
     ]
    },
    {
     "name": "stdout",
     "output_type": "stream",
     "text": [
      "tarquin --rows 3 --cols 2 --input /Users/papo/Sync/Projects/PAINT_MRS/INSPIRE_MRS_DATA/LWP711_D1/C3595760_WIP_CSI_PB_auto_TR2S_SENSE_13_2_raw_act.SDAT --output_csv /Users/papo/Sync/Projects/PAINT_MRS/INSPIRE_MRS_DATA/LWP711_D1/C3595760_WIP_CSI_PB_auto_TR2S_SENSE_13_2_raw_act_both.csv --input_w /Users/papo/Sync/Projects/PAINT_MRS/INSPIRE_MRS_DATA/LWP711_D1/C3595760_WIP_CSI_PB_auto_TR2S_SENSE_13_2_raw_ref.SDAT --basis_csv /Users/papo/Sync/Projects/PAINT_MRS_CSI/3_0T_basis_threonine_no_MM\n",
      "\n"
     ]
    },
    {
     "name": "stderr",
     "output_type": "stream",
     "text": [
      "  3%|▎         | 2/59 [00:17<08:37,  9.08s/it]"
     ]
    },
    {
     "name": "stdout",
     "output_type": "stream",
     "text": [
      "tarquin --rows 3 --cols 2 --input /Users/papo/Sync/Projects/PAINT_MRS/INSPIRE_MRS_DATA/LWP711_Insp002_scan2/C3595760_WIP_CSI_PB_auto_TR2S_SENSE_11_2_raw_act.SDAT --output_csv /Users/papo/Sync/Projects/PAINT_MRS/INSPIRE_MRS_DATA/LWP711_Insp002_scan2/C3595760_WIP_CSI_PB_auto_TR2S_SENSE_11_2_raw_act_both.csv --input_w /Users/papo/Sync/Projects/PAINT_MRS/INSPIRE_MRS_DATA/LWP711_Insp002_scan2/C3595760_WIP_CSI_PB_auto_TR2S_SENSE_11_2_raw_ref.SDAT --basis_csv /Users/papo/Sync/Projects/PAINT_MRS_CSI/3_0T_basis_threonine_no_MM\n",
      "\n"
     ]
    }
   ],
   "source": [
    "# data_folder = Path('/Users/papo/Sync/MRdata/IoN_Piglet/MRS_RAY')\n",
    "data_folder = Path('/Users/papo/Sync/MRdata/IoN_Piglet/Ellie')\n",
    "data_folder = Path('/Users/papo/Sync/Projects/PAINT_MRS/INSPIRE_MRS_DATA')\n",
    "\n",
    "basis_folder = Path('/Users/papo/Sync/Projects/PAINT_MRS_CSI/3_0T_basis_threonine_no_MM')\n",
    "\n",
    "sdat_files = [f for f in sorted(data_folder.rglob('*')) if (\"act.sdat\" in f.name.lower() and \"csi\" in f.name.lower())]\n",
    "for file in tqdm(sdat_files):\n",
    "    ref = Path(f'{str(file)[0:-8]}ref.SDAT')\n",
    "    csv = Path(f'{str(file)[0:-5]}_both.csv')\n",
    "    pdf = Path(f'{str(file)[0:-4]}pdf')\n",
    "    # print(csv)\n",
    "    if not csv.is_file():\n",
    "        # command = f'tarquin --rows 3 --cols 2 --input {file} --output_pdf {pdf} --output_csv {csv} --input_w {ref} --basis_csv {basis_folder}'\n",
    "        command = f'tarquin --rows 3 --cols 2 --input {file} --output_csv {csv} --input_w {ref} --basis_csv {basis_folder}'\n",
    "        print(f'{command}\\n') \n",
    "        os.system(command)\n"
   ]
  },
  {
   "cell_type": "code",
   "execution_count": null,
   "metadata": {},
   "outputs": [
    {
     "name": "stderr",
     "output_type": "stream",
     "text": [
      "b'Skipping line 4: expected 1 fields, saw 2\\nSkipping line 7: expected 1 fields, saw 2\\nSkipping line 8: expected 1 fields, saw 2\\nSkipping line 11: expected 1 fields, saw 2\\nSkipping line 14: expected 1 fields, saw 2\\nSkipping line 15: expected 1 fields, saw 2\\nSkipping line 16: expected 1 fields, saw 2\\nSkipping line 24: expected 1 fields, saw 3\\nSkipping line 27: expected 1 fields, saw 2\\nSkipping line 30: expected 1 fields, saw 3\\nSkipping line 33: expected 1 fields, saw 2\\nSkipping line 34: expected 1 fields, saw 3\\nSkipping line 42: expected 1 fields, saw 2\\nSkipping line 45: expected 1 fields, saw 3\\nSkipping line 47: expected 1 fields, saw 2\\nSkipping line 49: expected 1 fields, saw 4\\nSkipping line 54: expected 1 fields, saw 2\\nSkipping line 62: expected 1 fields, saw 2\\nSkipping line 63: expected 1 fields, saw 3\\nSkipping line 68: expected 1 fields, saw 2\\nSkipping line 69: expected 1 fields, saw 3\\nSkipping line 71: expected 1 fields, saw 2\\nSkipping line 73: expected 1 fields, saw 4\\nSkipping line 74: expected 1 fields, saw 2\\nSkipping line 78: expected 1 fields, saw 2\\nSkipping line 83: expected 1 fields, saw 2\\nSkipping line 93: expected 1 fields, saw 2\\nSkipping line 94: expected 1 fields, saw 3\\nSkipping line 100: expected 1 fields, saw 2\\nSkipping line 106: expected 1 fields, saw 2\\nSkipping line 107: expected 1 fields, saw 4\\nSkipping line 111: expected 1 fields, saw 2\\nSkipping line 117: expected 1 fields, saw 3\\nSkipping line 118: expected 1 fields, saw 2\\nSkipping line 120: expected 1 fields, saw 2\\nSkipping line 121: expected 1 fields, saw 2\\nSkipping line 129: expected 1 fields, saw 2\\nSkipping line 131: expected 1 fields, saw 2\\nSkipping line 132: expected 1 fields, saw 2\\nSkipping line 133: expected 1 fields, saw 4\\nSkipping line 137: expected 1 fields, saw 2\\nSkipping line 138: expected 1 fields, saw 4\\nSkipping line 145: expected 1 fields, saw 3\\nSkipping line 149: expected 1 fields, saw 2\\nSkipping line 152: expected 1 fields, saw 2\\nSkipping line 155: expected 1 fields, saw 4\\nSkipping line 157: expected 1 fields, saw 2\\nSkipping line 160: expected 1 fields, saw 2\\nSkipping line 164: expected 1 fields, saw 2\\nSkipping line 165: expected 1 fields, saw 3\\nSkipping line 167: expected 1 fields, saw 2\\nSkipping line 178: expected 1 fields, saw 2\\nSkipping line 188: expected 1 fields, saw 3\\nSkipping line 196: expected 1 fields, saw 2\\nSkipping line 197: expected 1 fields, saw 3\\nSkipping line 198: expected 1 fields, saw 2\\nSkipping line 200: expected 1 fields, saw 2\\nSkipping line 204: expected 1 fields, saw 4\\nSkipping line 205: expected 1 fields, saw 2\\nSkipping line 208: expected 1 fields, saw 2\\nSkipping line 209: expected 1 fields, saw 2\\nSkipping line 210: expected 1 fields, saw 3\\nSkipping line 211: expected 1 fields, saw 2\\nSkipping line 213: expected 1 fields, saw 3\\nSkipping line 221: expected 1 fields, saw 2\\nSkipping line 223: expected 1 fields, saw 2\\nSkipping line 224: expected 1 fields, saw 2\\nSkipping line 230: expected 1 fields, saw 3\\nSkipping line 233: expected 1 fields, saw 2\\nSkipping line 236: expected 1 fields, saw 3\\nSkipping line 239: expected 1 fields, saw 2\\nSkipping line 243: expected 1 fields, saw 2\\nSkipping line 246: expected 1 fields, saw 2\\nSkipping line 248: expected 1 fields, saw 2\\nSkipping line 249: expected 1 fields, saw 2\\nSkipping line 253: expected 1 fields, saw 2\\nSkipping line 257: expected 1 fields, saw 2\\nSkipping line 262: expected 1 fields, saw 2\\nSkipping line 263: expected 1 fields, saw 2\\nSkipping line 265: expected 1 fields, saw 2\\nSkipping line 268: expected 1 fields, saw 2\\nSkipping line 270: expected 1 fields, saw 2\\nSkipping line 274: expected 1 fields, saw 2\\nSkipping line 275: expected 1 fields, saw 2\\nSkipping line 277: expected 1 fields, saw 2\\nSkipping line 279: expected 1 fields, saw 2\\nSkipping line 280: expected 1 fields, saw 2\\nSkipping line 281: expected 1 fields, saw 2\\nSkipping line 285: expected 1 fields, saw 2\\nSkipping line 288: expected 1 fields, saw 2\\nSkipping line 291: expected 1 fields, saw 2\\nSkipping line 298: expected 1 fields, saw 2\\nSkipping line 300: expected 1 fields, saw 4\\nSkipping line 301: expected 1 fields, saw 2\\nSkipping line 303: expected 1 fields, saw 2\\nSkipping line 306: expected 1 fields, saw 2\\nSkipping line 307: expected 1 fields, saw 4\\nSkipping line 310: expected 1 fields, saw 2\\nSkipping line 317: expected 1 fields, saw 3\\nSkipping line 328: expected 1 fields, saw 2\\nSkipping line 330: expected 1 fields, saw 3\\nSkipping line 331: expected 1 fields, saw 2\\nSkipping line 333: expected 1 fields, saw 2\\nSkipping line 338: expected 1 fields, saw 4\\nSkipping line 341: expected 1 fields, saw 4\\nSkipping line 343: expected 1 fields, saw 4\\nSkipping line 350: expected 1 fields, saw 2\\nSkipping line 351: expected 1 fields, saw 3\\nSkipping line 355: expected 1 fields, saw 4\\nSkipping line 358: expected 1 fields, saw 3\\nSkipping line 361: expected 1 fields, saw 2\\nSkipping line 364: expected 1 fields, saw 3\\nSkipping line 365: expected 1 fields, saw 2\\nSkipping line 368: expected 1 fields, saw 2\\nSkipping line 369: expected 1 fields, saw 2\\nSkipping line 373: expected 1 fields, saw 3\\nSkipping line 374: expected 1 fields, saw 3\\nSkipping line 382: expected 1 fields, saw 2\\nSkipping line 387: expected 1 fields, saw 2\\nSkipping line 393: expected 1 fields, saw 2\\nSkipping line 397: expected 1 fields, saw 6\\nSkipping line 401: expected 1 fields, saw 2\\nSkipping line 406: expected 1 fields, saw 2\\nSkipping line 411: expected 1 fields, saw 2\\nSkipping line 412: expected 1 fields, saw 2\\nSkipping line 414: expected 1 fields, saw 2\\nSkipping line 415: expected 1 fields, saw 3\\nSkipping line 417: expected 1 fields, saw 2\\nSkipping line 420: expected 1 fields, saw 2\\nSkipping line 422: expected 1 fields, saw 2\\nSkipping line 423: expected 1 fields, saw 2\\nSkipping line 427: expected 1 fields, saw 2\\nSkipping line 431: expected 1 fields, saw 2\\nSkipping line 433: expected 1 fields, saw 2\\nSkipping line 439: expected 1 fields, saw 3\\nSkipping line 443: expected 1 fields, saw 2\\nSkipping line 444: expected 1 fields, saw 2\\nSkipping line 448: expected 1 fields, saw 2\\nSkipping line 450: expected 1 fields, saw 3\\nSkipping line 451: expected 1 fields, saw 2\\nSkipping line 454: expected 1 fields, saw 2\\nSkipping line 456: expected 1 fields, saw 3\\nSkipping line 459: expected 1 fields, saw 4\\nSkipping line 462: expected 1 fields, saw 2\\nSkipping line 463: expected 1 fields, saw 2\\nSkipping line 464: expected 1 fields, saw 2\\nSkipping line 468: expected 1 fields, saw 2\\nSkipping line 469: expected 1 fields, saw 2\\nSkipping line 473: expected 1 fields, saw 2\\nSkipping line 474: expected 1 fields, saw 2\\nSkipping line 476: expected 1 fields, saw 2\\nSkipping line 482: expected 1 fields, saw 2\\nSkipping line 483: expected 1 fields, saw 2\\nSkipping line 486: expected 1 fields, saw 4\\nSkipping line 488: expected 1 fields, saw 2\\nSkipping line 505: expected 1 fields, saw 2\\nSkipping line 508: expected 1 fields, saw 3\\nSkipping line 513: expected 1 fields, saw 2\\nSkipping line 514: expected 1 fields, saw 2\\nSkipping line 521: expected 1 fields, saw 4\\nSkipping line 524: expected 1 fields, saw 2\\nSkipping line 528: expected 1 fields, saw 2\\nSkipping line 530: expected 1 fields, saw 3\\nSkipping line 532: expected 1 fields, saw 3\\nSkipping line 540: expected 1 fields, saw 3\\nSkipping line 541: expected 1 fields, saw 2\\nSkipping line 545: expected 1 fields, saw 2\\nSkipping line 547: expected 1 fields, saw 2\\nSkipping line 549: expected 1 fields, saw 2\\nSkipping line 550: expected 1 fields, saw 2\\nSkipping line 552: expected 1 fields, saw 2\\nSkipping line 555: expected 1 fields, saw 3\\nSkipping line 565: expected 1 fields, saw 4\\nSkipping line 567: expected 1 fields, saw 2\\nSkipping line 568: expected 1 fields, saw 2\\nSkipping line 571: expected 1 fields, saw 2\\nSkipping line 573: expected 1 fields, saw 3\\nSkipping line 576: expected 1 fields, saw 4\\nSkipping line 584: expected 1 fields, saw 3\\nSkipping line 588: expected 1 fields, saw 2\\nSkipping line 592: expected 1 fields, saw 3\\nSkipping line 595: expected 1 fields, saw 2\\nSkipping line 599: expected 1 fields, saw 2\\nSkipping line 603: expected 1 fields, saw 2\\nSkipping line 604: expected 1 fields, saw 3\\nSkipping line 605: expected 1 fields, saw 2\\nSkipping line 615: expected 1 fields, saw 2\\nSkipping line 620: expected 1 fields, saw 2\\nSkipping line 622: expected 1 fields, saw 3\\nSkipping line 625: expected 1 fields, saw 2\\nSkipping line 629: expected 1 fields, saw 5\\nSkipping line 632: expected 1 fields, saw 2\\nSkipping line 633: expected 1 fields, saw 2\\nSkipping line 634: expected 1 fields, saw 2\\nSkipping line 643: expected 1 fields, saw 2\\nSkipping line 646: expected 1 fields, saw 2\\nSkipping line 649: expected 1 fields, saw 2\\nSkipping line 653: expected 1 fields, saw 4\\nSkipping line 656: expected 1 fields, saw 2\\nSkipping line 657: expected 1 fields, saw 2\\nSkipping line 663: expected 1 fields, saw 3\\nSkipping line 665: expected 1 fields, saw 2\\nSkipping line 668: expected 1 fields, saw 3\\nSkipping line 670: expected 1 fields, saw 2\\nSkipping line 673: expected 1 fields, saw 2\\nSkipping line 674: expected 1 fields, saw 2\\nSkipping line 676: expected 1 fields, saw 2\\nSkipping line 677: expected 1 fields, saw 3\\nSkipping line 679: expected 1 fields, saw 2\\nSkipping line 681: expected 1 fields, saw 2\\nSkipping line 685: expected 1 fields, saw 2\\nSkipping line 686: expected 1 fields, saw 2\\nSkipping line 690: expected 1 fields, saw 3\\nSkipping line 691: expected 1 fields, saw 2\\nSkipping line 699: expected 1 fields, saw 2\\nSkipping line 704: expected 1 fields, saw 2\\nSkipping line 706: expected 1 fields, saw 2\\nSkipping line 707: expected 1 fields, saw 2\\nSkipping line 709: expected 1 fields, saw 2\\nSkipping line 716: expected 1 fields, saw 2\\nSkipping line 717: expected 1 fields, saw 3\\nSkipping line 718: expected 1 fields, saw 3\\nSkipping line 720: expected 1 fields, saw 4\\nSkipping line 721: expected 1 fields, saw 2\\nSkipping line 727: expected 1 fields, saw 2\\nSkipping line 729: expected 1 fields, saw 2\\nSkipping line 730: expected 1 fields, saw 3\\nSkipping line 731: expected 1 fields, saw 2\\nSkipping line 737: expected 1 fields, saw 2\\nSkipping line 741: expected 1 fields, saw 2\\nSkipping line 749: expected 1 fields, saw 4\\nSkipping line 754: expected 1 fields, saw 2\\nSkipping line 756: expected 1 fields, saw 2\\nSkipping line 758: expected 1 fields, saw 2\\nSkipping line 761: expected 1 fields, saw 3\\nSkipping line 765: expected 1 fields, saw 2\\nSkipping line 766: expected 1 fields, saw 2\\nSkipping line 768: expected 1 fields, saw 2\\nSkipping line 772: expected 1 fields, saw 2\\nSkipping line 773: expected 1 fields, saw 2\\nSkipping line 778: expected 1 fields, saw 2\\nSkipping line 784: expected 1 fields, saw 4\\nSkipping line 785: expected 1 fields, saw 3\\nSkipping line 788: expected 1 fields, saw 2\\nSkipping line 791: expected 1 fields, saw 2\\nSkipping line 793: expected 1 fields, saw 2\\nSkipping line 794: expected 1 fields, saw 2\\nSkipping line 795: expected 1 fields, saw 3\\nSkipping line 800: expected 1 fields, saw 3\\nSkipping line 803: expected 1 fields, saw 3\\nSkipping line 804: expected 1 fields, saw 2\\nSkipping line 805: expected 1 fields, saw 4\\nSkipping line 811: expected 1 fields, saw 5\\nSkipping line 812: expected 1 fields, saw 2\\nSkipping line 813: expected 1 fields, saw 4\\nSkipping line 816: expected 1 fields, saw 3\\nSkipping line 817: expected 1 fields, saw 2\\nSkipping line 818: expected 1 fields, saw 2\\nSkipping line 819: expected 1 fields, saw 2\\nSkipping line 825: expected 1 fields, saw 2\\nSkipping line 826: expected 1 fields, saw 2\\nSkipping line 831: expected 1 fields, saw 2\\nSkipping line 833: expected 1 fields, saw 4\\nSkipping line 837: expected 1 fields, saw 3\\nSkipping line 838: expected 1 fields, saw 3\\nSkipping line 840: expected 1 fields, saw 2\\nSkipping line 844: expected 1 fields, saw 2\\nSkipping line 850: expected 1 fields, saw 2\\nSkipping line 854: expected 1 fields, saw 2\\nSkipping line 855: expected 1 fields, saw 2\\nSkipping line 858: expected 1 fields, saw 2\\nSkipping line 860: expected 1 fields, saw 2\\nSkipping line 862: expected 1 fields, saw 2\\nSkipping line 863: expected 1 fields, saw 2\\nSkipping line 865: expected 1 fields, saw 2\\nSkipping line 869: expected 1 fields, saw 2\\nSkipping line 873: expected 1 fields, saw 4\\nSkipping line 876: expected 1 fields, saw 2\\nSkipping line 877: expected 1 fields, saw 2\\nSkipping line 885: expected 1 fields, saw 2\\nSkipping line 886: expected 1 fields, saw 2\\nSkipping line 888: expected 1 fields, saw 2\\nSkipping line 889: expected 1 fields, saw 2\\nSkipping line 891: expected 1 fields, saw 2\\nSkipping line 893: expected 1 fields, saw 2\\nSkipping line 894: expected 1 fields, saw 3\\nSkipping line 900: expected 1 fields, saw 2\\nSkipping line 901: expected 1 fields, saw 2\\nSkipping line 905: expected 1 fields, saw 2\\nSkipping line 908: expected 1 fields, saw 3\\nSkipping line 911: expected 1 fields, saw 2\\nSkipping line 912: expected 1 fields, saw 3\\nSkipping line 915: expected 1 fields, saw 2\\nSkipping line 916: expected 1 fields, saw 3\\nSkipping line 918: expected 1 fields, saw 2\\nSkipping line 921: expected 1 fields, saw 2\\nSkipping line 922: expected 1 fields, saw 2\\nSkipping line 931: expected 1 fields, saw 2\\nSkipping line 932: expected 1 fields, saw 2\\nSkipping line 941: expected 1 fields, saw 3\\nSkipping line 944: expected 1 fields, saw 2\\nSkipping line 945: expected 1 fields, saw 3\\nSkipping line 947: expected 1 fields, saw 3\\nSkipping line 949: expected 1 fields, saw 2\\nSkipping line 951: expected 1 fields, saw 2\\nSkipping line 953: expected 1 fields, saw 2\\nSkipping line 957: expected 1 fields, saw 3\\nSkipping line 959: expected 1 fields, saw 2\\nSkipping line 962: expected 1 fields, saw 2\\nSkipping line 963: expected 1 fields, saw 2\\nSkipping line 964: expected 1 fields, saw 3\\nSkipping line 967: expected 1 fields, saw 3\\nSkipping line 970: expected 1 fields, saw 3\\nSkipping line 971: expected 1 fields, saw 2\\nSkipping line 973: expected 1 fields, saw 3\\nSkipping line 977: expected 1 fields, saw 2\\nSkipping line 981: expected 1 fields, saw 4\\nSkipping line 985: expected 1 fields, saw 3\\nSkipping line 986: expected 1 fields, saw 3\\nSkipping line 987: expected 1 fields, saw 3\\nSkipping line 993: expected 1 fields, saw 2\\nSkipping line 994: expected 1 fields, saw 2\\nSkipping line 995: expected 1 fields, saw 2\\nSkipping line 997: expected 1 fields, saw 2\\nSkipping line 1003: expected 1 fields, saw 3\\nSkipping line 1004: expected 1 fields, saw 3\\nSkipping line 1005: expected 1 fields, saw 2\\nSkipping line 1016: expected 1 fields, saw 2\\nSkipping line 1018: expected 1 fields, saw 4\\nSkipping line 1025: expected 1 fields, saw 3\\nSkipping line 1027: expected 1 fields, saw 3\\nSkipping line 1029: expected 1 fields, saw 2\\nSkipping line 1031: expected 1 fields, saw 3\\nSkipping line 1035: expected 1 fields, saw 3\\nSkipping line 1037: expected 1 fields, saw 2\\nSkipping line 1039: expected 1 fields, saw 2\\nSkipping line 1040: expected 1 fields, saw 2\\nSkipping line 1044: expected 1 fields, saw 5\\nSkipping line 1050: expected 1 fields, saw 5\\nSkipping line 1051: expected 1 fields, saw 5\\nSkipping line 1054: expected 1 fields, saw 2\\nSkipping line 1064: expected 1 fields, saw 2\\nSkipping line 1066: expected 1 fields, saw 3\\nSkipping line 1068: expected 1 fields, saw 2\\nSkipping line 1070: expected 1 fields, saw 2\\nSkipping line 1071: expected 1 fields, saw 2\\nSkipping line 1072: expected 1 fields, saw 2\\nSkipping line 1076: expected 1 fields, saw 4\\nSkipping line 1081: expected 1 fields, saw 2\\nSkipping line 1082: expected 1 fields, saw 3\\nSkipping line 1089: expected 1 fields, saw 2\\nSkipping line 1095: expected 1 fields, saw 2\\nSkipping line 1096: expected 1 fields, saw 2\\nSkipping line 1097: expected 1 fields, saw 2\\nSkipping line 1101: expected 1 fields, saw 5\\nSkipping line 1102: expected 1 fields, saw 3\\nSkipping line 1107: expected 1 fields, saw 4\\nSkipping line 1114: expected 1 fields, saw 2\\nSkipping line 1117: expected 1 fields, saw 2\\nSkipping line 1128: expected 1 fields, saw 2\\nSkipping line 1130: expected 1 fields, saw 2\\nSkipping line 1135: expected 1 fields, saw 2\\nSkipping line 1141: expected 1 fields, saw 3\\nSkipping line 1144: expected 1 fields, saw 3\\nSkipping line 1157: expected 1 fields, saw 2\\nSkipping line 1158: expected 1 fields, saw 2\\nSkipping line 1160: expected 1 fields, saw 2\\nSkipping line 1161: expected 1 fields, saw 3\\nSkipping line 1162: expected 1 fields, saw 2\\nSkipping line 1170: expected 1 fields, saw 2\\nSkipping line 1171: expected 1 fields, saw 2\\nSkipping line 1177: expected 1 fields, saw 3\\nSkipping line 1180: expected 1 fields, saw 2\\nSkipping line 1181: expected 1 fields, saw 3\\nSkipping line 1184: expected 1 fields, saw 2\\nSkipping line 1186: expected 1 fields, saw 4\\nSkipping line 1188: expected 1 fields, saw 3\\nSkipping line 1207: expected 1 fields, saw 2\\nSkipping line 1209: expected 1 fields, saw 2\\nSkipping line 1212: expected 1 fields, saw 3\\nSkipping line 1220: expected 1 fields, saw 2\\nSkipping line 1221: expected 1 fields, saw 2\\nSkipping line 1225: expected 1 fields, saw 2\\nSkipping line 1229: expected 1 fields, saw 2\\nSkipping line 1239: expected 1 fields, saw 2\\nSkipping line 1240: expected 1 fields, saw 2\\nSkipping line 1241: expected 1 fields, saw 2\\nSkipping line 1243: expected 1 fields, saw 2\\nSkipping line 1244: expected 1 fields, saw 3\\nSkipping line 1245: expected 1 fields, saw 4\\nSkipping line 1250: expected 1 fields, saw 2\\nSkipping line 1252: expected 1 fields, saw 3\\nSkipping line 1256: expected 1 fields, saw 2\\nSkipping line 1259: expected 1 fields, saw 3\\nSkipping line 1265: expected 1 fields, saw 2\\nSkipping line 1268: expected 1 fields, saw 2\\nSkipping line 1270: expected 1 fields, saw 3\\nSkipping line 1279: expected 1 fields, saw 2\\nSkipping line 1280: expected 1 fields, saw 2\\nSkipping line 1282: expected 1 fields, saw 2\\nSkipping line 1284: expected 1 fields, saw 2\\nSkipping line 1286: expected 1 fields, saw 2\\nSkipping line 1287: expected 1 fields, saw 2\\nSkipping line 1288: expected 1 fields, saw 2\\nSkipping line 1291: expected 1 fields, saw 2\\nSkipping line 1295: expected 1 fields, saw 3\\nSkipping line 1299: expected 1 fields, saw 2\\nSkipping line 1307: expected 1 fields, saw 3\\nSkipping line 1309: expected 1 fields, saw 3\\nSkipping line 1312: expected 1 fields, saw 2\\nSkipping line 1313: expected 1 fields, saw 4\\nSkipping line 1314: expected 1 fields, saw 3\\nSkipping line 1319: expected 1 fields, saw 5\\nSkipping line 1320: expected 1 fields, saw 3\\nSkipping line 1325: expected 1 fields, saw 2\\nSkipping line 1326: expected 1 fields, saw 2\\nSkipping line 1330: expected 1 fields, saw 2\\nSkipping line 1331: expected 1 fields, saw 3\\nSkipping line 1333: expected 1 fields, saw 2\\nSkipping line 1334: expected 1 fields, saw 2\\nSkipping line 1345: expected 1 fields, saw 2\\nSkipping line 1350: expected 1 fields, saw 2\\nSkipping line 1352: expected 1 fields, saw 2\\nSkipping line 1358: expected 1 fields, saw 3\\nSkipping line 1362: expected 1 fields, saw 2\\nSkipping line 1363: expected 1 fields, saw 3\\nSkipping line 1367: expected 1 fields, saw 2\\nSkipping line 1370: expected 1 fields, saw 2\\nSkipping line 1371: expected 1 fields, saw 2\\nSkipping line 1377: expected 1 fields, saw 2\\nSkipping line 1383: expected 1 fields, saw 2\\nSkipping line 1385: expected 1 fields, saw 2\\nSkipping line 1388: expected 1 fields, saw 2\\nSkipping line 1390: expected 1 fields, saw 2\\nSkipping line 1391: expected 1 fields, saw 2\\nSkipping line 1393: expected 1 fields, saw 3\\nSkipping line 1397: expected 1 fields, saw 2\\nSkipping line 1398: expected 1 fields, saw 2\\nSkipping line 1411: expected 1 fields, saw 3\\nSkipping line 1412: expected 1 fields, saw 2\\nSkipping line 1413: expected 1 fields, saw 2\\nSkipping line 1417: expected 1 fields, saw 2\\nSkipping line 1423: expected 1 fields, saw 2\\nSkipping line 1429: expected 1 fields, saw 3\\nSkipping line 1430: expected 1 fields, saw 2\\nSkipping line 1432: expected 1 fields, saw 2\\nSkipping line 1441: expected 1 fields, saw 2\\nSkipping line 1444: expected 1 fields, saw 5\\nSkipping line 1445: expected 1 fields, saw 4\\nSkipping line 1449: expected 1 fields, saw 4\\nSkipping line 1453: expected 1 fields, saw 2\\nSkipping line 1457: expected 1 fields, saw 2\\nSkipping line 1459: expected 1 fields, saw 2\\nSkipping line 1461: expected 1 fields, saw 2\\nSkipping line 1474: expected 1 fields, saw 2\\nSkipping line 1476: expected 1 fields, saw 2\\nSkipping line 1487: expected 1 fields, saw 4\\nSkipping line 1503: expected 1 fields, saw 3\\nSkipping line 1511: expected 1 fields, saw 2\\nSkipping line 1512: expected 1 fields, saw 2\\nSkipping line 1520: expected 1 fields, saw 2\\nSkipping line 1523: expected 1 fields, saw 2\\nSkipping line 1526: expected 1 fields, saw 4\\nSkipping line 1530: expected 1 fields, saw 2\\nSkipping line 1531: expected 1 fields, saw 2\\nSkipping line 1532: expected 1 fields, saw 2\\nSkipping line 1538: expected 1 fields, saw 2\\nSkipping line 1543: expected 1 fields, saw 2\\nSkipping line 1544: expected 1 fields, saw 3\\nSkipping line 1545: expected 1 fields, saw 2\\nSkipping line 1550: expected 1 fields, saw 4\\nSkipping line 1551: expected 1 fields, saw 2\\nSkipping line 1552: expected 1 fields, saw 2\\nSkipping line 1554: expected 1 fields, saw 2\\nSkipping line 1562: expected 1 fields, saw 3\\nSkipping line 1565: expected 1 fields, saw 2\\nSkipping line 1566: expected 1 fields, saw 3\\nSkipping line 1567: expected 1 fields, saw 5\\nSkipping line 1569: expected 1 fields, saw 2\\nSkipping line 1571: expected 1 fields, saw 2\\nSkipping line 1576: expected 1 fields, saw 4\\nSkipping line 1578: expected 1 fields, saw 2\\nSkipping line 1580: expected 1 fields, saw 2\\nSkipping line 1581: expected 1 fields, saw 2\\nSkipping line 1583: expected 1 fields, saw 2\\nSkipping line 1585: expected 1 fields, saw 2\\nSkipping line 1587: expected 1 fields, saw 3\\nSkipping line 1593: expected 1 fields, saw 3\\nSkipping line 1596: expected 1 fields, saw 3\\nSkipping line 1598: expected 1 fields, saw 2\\nSkipping line 1600: expected 1 fields, saw 2\\nSkipping line 1602: expected 1 fields, saw 2\\nSkipping line 1603: expected 1 fields, saw 4\\nSkipping line 1604: expected 1 fields, saw 4\\nSkipping line 1605: expected 1 fields, saw 2\\nSkipping line 1608: expected 1 fields, saw 2\\nSkipping line 1614: expected 1 fields, saw 3\\nSkipping line 1616: expected 1 fields, saw 2\\nSkipping line 1620: expected 1 fields, saw 4\\nSkipping line 1621: expected 1 fields, saw 2\\nSkipping line 1633: expected 1 fields, saw 3\\nSkipping line 1634: expected 1 fields, saw 2\\nSkipping line 1637: expected 1 fields, saw 3\\nSkipping line 1639: expected 1 fields, saw 3\\nSkipping line 1641: expected 1 fields, saw 2\\nSkipping line 1642: expected 1 fields, saw 2\\nSkipping line 1648: expected 1 fields, saw 2\\nSkipping line 1653: expected 1 fields, saw 5\\nSkipping line 1657: expected 1 fields, saw 2\\nSkipping line 1659: expected 1 fields, saw 2\\nSkipping line 1662: expected 1 fields, saw 2\\nSkipping line 1664: expected 1 fields, saw 2\\nSkipping line 1665: expected 1 fields, saw 2\\nSkipping line 1666: expected 1 fields, saw 3\\nSkipping line 1667: expected 1 fields, saw 2\\nSkipping line 1668: expected 1 fields, saw 3\\nSkipping line 1673: expected 1 fields, saw 2\\nSkipping line 1677: expected 1 fields, saw 2\\nSkipping line 1684: expected 1 fields, saw 2\\nSkipping line 1692: expected 1 fields, saw 2\\nSkipping line 1699: expected 1 fields, saw 2\\nSkipping line 1701: expected 1 fields, saw 2\\nSkipping line 1702: expected 1 fields, saw 2\\nSkipping line 1708: expected 1 fields, saw 2\\nSkipping line 1714: expected 1 fields, saw 2\\nSkipping line 1715: expected 1 fields, saw 2\\nSkipping line 1717: expected 1 fields, saw 2\\nSkipping line 1721: expected 1 fields, saw 2\\nSkipping line 1730: expected 1 fields, saw 2\\nSkipping line 1737: expected 1 fields, saw 2\\nSkipping line 1739: expected 1 fields, saw 4\\nSkipping line 1745: expected 1 fields, saw 2\\nSkipping line 1746: expected 1 fields, saw 2\\nSkipping line 1750: expected 1 fields, saw 2\\nSkipping line 1752: expected 1 fields, saw 2\\nSkipping line 1757: expected 1 fields, saw 2\\nSkipping line 1759: expected 1 fields, saw 3\\nSkipping line 1761: expected 1 fields, saw 3\\nSkipping line 1766: expected 1 fields, saw 2\\nSkipping line 1772: expected 1 fields, saw 2\\nSkipping line 1773: expected 1 fields, saw 4\\nSkipping line 1775: expected 1 fields, saw 2\\nSkipping line 1782: expected 1 fields, saw 2\\nSkipping line 1786: expected 1 fields, saw 2\\nSkipping line 1791: expected 1 fields, saw 2\\nSkipping line 1792: expected 1 fields, saw 2\\nSkipping line 1794: expected 1 fields, saw 2\\nSkipping line 1797: expected 1 fields, saw 2\\nSkipping line 1798: expected 1 fields, saw 2\\nSkipping line 1801: expected 1 fields, saw 4\\nSkipping line 1809: expected 1 fields, saw 3\\nSkipping line 1810: expected 1 fields, saw 2\\nSkipping line 1812: expected 1 fields, saw 2\\nSkipping line 1818: expected 1 fields, saw 2\\nSkipping line 1821: expected 1 fields, saw 2\\nSkipping line 1823: expected 1 fields, saw 2\\nSkipping line 1826: expected 1 fields, saw 2\\nSkipping line 1829: expected 1 fields, saw 2\\nSkipping line 1836: expected 1 fields, saw 2\\nSkipping line 1839: expected 1 fields, saw 2\\nSkipping line 1846: expected 1 fields, saw 2\\nSkipping line 1847: expected 1 fields, saw 2\\nSkipping line 1848: expected 1 fields, saw 2\\nSkipping line 1850: expected 1 fields, saw 3\\nSkipping line 1854: expected 1 fields, saw 3\\nSkipping line 1863: expected 1 fields, saw 6\\nSkipping line 1868: expected 1 fields, saw 2\\nSkipping line 1872: expected 1 fields, saw 2\\nSkipping line 1875: expected 1 fields, saw 3\\nSkipping line 1876: expected 1 fields, saw 2\\nSkipping line 1879: expected 1 fields, saw 2\\nSkipping line 1882: expected 1 fields, saw 3\\nSkipping line 1884: expected 1 fields, saw 2\\nSkipping line 1886: expected 1 fields, saw 2\\nSkipping line 1887: expected 1 fields, saw 2\\nSkipping line 1889: expected 1 fields, saw 4\\nSkipping line 1892: expected 1 fields, saw 2\\nSkipping line 1893: expected 1 fields, saw 3\\nSkipping line 1895: expected 1 fields, saw 3\\nSkipping line 1896: expected 1 fields, saw 2\\nSkipping line 1898: expected 1 fields, saw 2\\nSkipping line 1904: expected 1 fields, saw 2\\nSkipping line 1905: expected 1 fields, saw 2\\nSkipping line 1907: expected 1 fields, saw 2\\nSkipping line 1910: expected 1 fields, saw 3\\nSkipping line 1913: expected 1 fields, saw 2\\nSkipping line 1914: expected 1 fields, saw 2\\nSkipping line 1915: expected 1 fields, saw 4\\nSkipping line 1917: expected 1 fields, saw 3\\nSkipping line 1920: expected 1 fields, saw 3\\nSkipping line 1923: expected 1 fields, saw 2\\nSkipping line 1925: expected 1 fields, saw 5\\nSkipping line 1930: expected 1 fields, saw 2\\nSkipping line 1931: expected 1 fields, saw 2\\nSkipping line 1935: expected 1 fields, saw 3\\nSkipping line 1936: expected 1 fields, saw 3\\nSkipping line 1940: expected 1 fields, saw 2\\nSkipping line 1941: expected 1 fields, saw 3\\nSkipping line 1945: expected 1 fields, saw 2\\nSkipping line 1946: expected 1 fields, saw 2\\nSkipping line 1947: expected 1 fields, saw 2\\nSkipping line 1948: expected 1 fields, saw 3\\nSkipping line 1958: expected 1 fields, saw 2\\nSkipping line 1961: expected 1 fields, saw 2\\nSkipping line 1965: expected 1 fields, saw 4\\nSkipping line 1967: expected 1 fields, saw 3\\nSkipping line 1972: expected 1 fields, saw 2\\nSkipping line 1973: expected 1 fields, saw 4\\nSkipping line 1975: expected 1 fields, saw 2\\nSkipping line 1984: expected 1 fields, saw 2\\nSkipping line 1985: expected 1 fields, saw 2\\nSkipping line 1986: expected 1 fields, saw 2\\nSkipping line 1990: expected 1 fields, saw 3\\nSkipping line 1991: expected 1 fields, saw 2\\nSkipping line 1993: expected 1 fields, saw 3\\nSkipping line 1994: expected 1 fields, saw 3\\nSkipping line 1996: expected 1 fields, saw 2\\nSkipping line 2003: expected 1 fields, saw 5\\nSkipping line 2006: expected 1 fields, saw 2\\nSkipping line 2009: expected 1 fields, saw 2\\nSkipping line 2010: expected 1 fields, saw 2\\nSkipping line 2012: expected 1 fields, saw 3\\nSkipping line 2018: expected 1 fields, saw 3\\nSkipping line 2020: expected 1 fields, saw 2\\nSkipping line 2022: expected 1 fields, saw 3\\nSkipping line 2025: expected 1 fields, saw 2\\nSkipping line 2027: expected 1 fields, saw 2\\nSkipping line 2031: expected 1 fields, saw 2\\nSkipping line 2035: expected 1 fields, saw 3\\nSkipping line 2036: expected 1 fields, saw 2\\nSkipping line 2038: expected 1 fields, saw 2\\nSkipping line 2039: expected 1 fields, saw 5\\nSkipping line 2042: expected 1 fields, saw 2\\nSkipping line 2049: expected 1 fields, saw 3\\nSkipping line 2051: expected 1 fields, saw 2\\nSkipping line 2053: expected 1 fields, saw 2\\nSkipping line 2057: expected 1 fields, saw 3\\nSkipping line 2058: expected 1 fields, saw 3\\nSkipping line 2059: expected 1 fields, saw 4\\nSkipping line 2060: expected 1 fields, saw 3\\nSkipping line 2061: expected 1 fields, saw 2\\nSkipping line 2062: expected 1 fields, saw 3\\nSkipping line 2065: expected 1 fields, saw 2\\nSkipping line 2069: expected 1 fields, saw 4\\nSkipping line 2074: expected 1 fields, saw 2\\nSkipping line 2078: expected 1 fields, saw 3\\nSkipping line 2080: expected 1 fields, saw 3\\nSkipping line 2081: expected 1 fields, saw 2\\nSkipping line 2083: expected 1 fields, saw 2\\nSkipping line 2085: expected 1 fields, saw 2\\nSkipping line 2086: expected 1 fields, saw 2\\nSkipping line 2088: expected 1 fields, saw 2\\nSkipping line 2090: expected 1 fields, saw 2\\nSkipping line 2093: expected 1 fields, saw 2\\nSkipping line 2099: expected 1 fields, saw 2\\nSkipping line 2100: expected 1 fields, saw 2\\nSkipping line 2101: expected 1 fields, saw 2\\nSkipping line 2104: expected 1 fields, saw 2\\nSkipping line 2106: expected 1 fields, saw 3\\nSkipping line 2110: expected 1 fields, saw 4\\nSkipping line 2112: expected 1 fields, saw 3\\nSkipping line 2113: expected 1 fields, saw 2\\nSkipping line 2115: expected 1 fields, saw 2\\nSkipping line 2116: expected 1 fields, saw 2\\nSkipping line 2117: expected 1 fields, saw 2\\nSkipping line 2118: expected 1 fields, saw 2\\nSkipping line 2119: expected 1 fields, saw 2\\nSkipping line 2130: expected 1 fields, saw 2\\nSkipping line 2131: expected 1 fields, saw 2\\nSkipping line 2133: expected 1 fields, saw 2\\nSkipping line 2135: expected 1 fields, saw 3\\nSkipping line 2138: expected 1 fields, saw 2\\nSkipping line 2139: expected 1 fields, saw 2\\nSkipping line 2141: expected 1 fields, saw 3\\nSkipping line 2144: expected 1 fields, saw 2\\nSkipping line 2145: expected 1 fields, saw 3\\nSkipping line 2146: expected 1 fields, saw 3\\nSkipping line 2148: expected 1 fields, saw 2\\nSkipping line 2152: expected 1 fields, saw 2\\nSkipping line 2154: expected 1 fields, saw 2\\nSkipping line 2159: expected 1 fields, saw 4\\nSkipping line 2164: expected 1 fields, saw 5\\nSkipping line 2169: expected 1 fields, saw 3\\nSkipping line 2171: expected 1 fields, saw 2\\nSkipping line 2173: expected 1 fields, saw 5\\nSkipping line 2174: expected 1 fields, saw 2\\nSkipping line 2179: expected 1 fields, saw 2\\nSkipping line 2180: expected 1 fields, saw 2\\nSkipping line 2184: expected 1 fields, saw 4\\nSkipping line 2186: expected 1 fields, saw 2\\nSkipping line 2192: expected 1 fields, saw 3\\nSkipping line 2200: expected 1 fields, saw 2\\nSkipping line 2201: expected 1 fields, saw 2\\nSkipping line 2203: expected 1 fields, saw 6\\nSkipping line 2204: expected 1 fields, saw 3\\nSkipping line 2205: expected 1 fields, saw 2\\nSkipping line 2207: expected 1 fields, saw 2\\nSkipping line 2209: expected 1 fields, saw 2\\nSkipping line 2210: expected 1 fields, saw 2\\nSkipping line 2213: expected 1 fields, saw 2\\nSkipping line 2221: expected 1 fields, saw 2\\nSkipping line 2229: expected 1 fields, saw 2\\nSkipping line 2230: expected 1 fields, saw 3\\nSkipping line 2234: expected 1 fields, saw 3\\nSkipping line 2237: expected 1 fields, saw 2\\nSkipping line 2245: expected 1 fields, saw 2\\nSkipping line 2246: expected 1 fields, saw 3\\nSkipping line 2251: expected 1 fields, saw 2\\nSkipping line 2254: expected 1 fields, saw 3\\nSkipping line 2255: expected 1 fields, saw 3\\nSkipping line 2260: expected 1 fields, saw 2\\nSkipping line 2263: expected 1 fields, saw 2\\nSkipping line 2268: expected 1 fields, saw 2\\nSkipping line 2270: expected 1 fields, saw 2\\nSkipping line 2275: expected 1 fields, saw 2\\nSkipping line 2279: expected 1 fields, saw 3\\nSkipping line 2280: expected 1 fields, saw 2\\nSkipping line 2292: expected 1 fields, saw 2\\nSkipping line 2293: expected 1 fields, saw 3\\nSkipping line 2295: expected 1 fields, saw 2\\nSkipping line 2296: expected 1 fields, saw 2\\nSkipping line 2302: expected 1 fields, saw 2\\nSkipping line 2308: expected 1 fields, saw 2\\nSkipping line 2309: expected 1 fields, saw 2\\nSkipping line 2311: expected 1 fields, saw 2\\nSkipping line 2314: expected 1 fields, saw 4\\nSkipping line 2315: expected 1 fields, saw 2\\nSkipping line 2319: expected 1 fields, saw 2\\nSkipping line 2324: expected 1 fields, saw 3\\nSkipping line 2325: expected 1 fields, saw 4\\nSkipping line 2326: expected 1 fields, saw 2\\nSkipping line 2329: expected 1 fields, saw 2\\nSkipping line 2330: expected 1 fields, saw 3\\nSkipping line 2332: expected 1 fields, saw 2\\nSkipping line 2333: expected 1 fields, saw 3\\nSkipping line 2334: expected 1 fields, saw 2\\nSkipping line 2335: expected 1 fields, saw 2\\nSkipping line 2338: expected 1 fields, saw 3\\nSkipping line 2340: expected 1 fields, saw 3\\nSkipping line 2343: expected 1 fields, saw 2\\nSkipping line 2349: expected 1 fields, saw 2\\nSkipping line 2350: expected 1 fields, saw 2\\nSkipping line 2352: expected 1 fields, saw 2\\nSkipping line 2362: expected 1 fields, saw 3\\nSkipping line 2365: expected 1 fields, saw 2\\nSkipping line 2369: expected 1 fields, saw 2\\nSkipping line 2372: expected 1 fields, saw 2\\nSkipping line 2378: expected 1 fields, saw 2\\nSkipping line 2380: expected 1 fields, saw 2\\nSkipping line 2384: expected 1 fields, saw 2\\nSkipping line 2385: expected 1 fields, saw 4\\nSkipping line 2387: expected 1 fields, saw 2\\nSkipping line 2389: expected 1 fields, saw 2\\nSkipping line 2392: expected 1 fields, saw 2\\nSkipping line 2396: expected 1 fields, saw 2\\nSkipping line 2398: expected 1 fields, saw 2\\nSkipping line 2400: expected 1 fields, saw 2\\nSkipping line 2402: expected 1 fields, saw 2\\nSkipping line 2412: expected 1 fields, saw 2\\nSkipping line 2415: expected 1 fields, saw 2\\nSkipping line 2419: expected 1 fields, saw 2\\nSkipping line 2420: expected 1 fields, saw 2\\nSkipping line 2421: expected 1 fields, saw 2\\nSkipping line 2429: expected 1 fields, saw 3\\nSkipping line 2431: expected 1 fields, saw 4\\nSkipping line 2433: expected 1 fields, saw 2\\nSkipping line 2435: expected 1 fields, saw 2\\nSkipping line 2437: expected 1 fields, saw 2\\nSkipping line 2438: expected 1 fields, saw 4\\nSkipping line 2442: expected 1 fields, saw 3\\nSkipping line 2443: expected 1 fields, saw 2\\nSkipping line 2445: expected 1 fields, saw 2\\nSkipping line 2446: expected 1 fields, saw 5\\nSkipping line 2450: expected 1 fields, saw 2\\nSkipping line 2457: expected 1 fields, saw 2\\nSkipping line 2466: expected 1 fields, saw 2\\nSkipping line 2469: expected 1 fields, saw 2\\nSkipping line 2470: expected 1 fields, saw 2\\nSkipping line 2477: expected 1 fields, saw 3\\n'\n"
     ]
    },
    {
     "ename": "ParserError",
     "evalue": "Error tokenizing data. C error: Buffer overflow caught - possible malformed input file.\n",
     "output_type": "error",
     "traceback": [
      "\u001b[0;31m---------------------------------------------------------------------------\u001b[0m",
      "\u001b[0;31mParserError\u001b[0m                               Traceback (most recent call last)",
      "\u001b[0;32m<ipython-input-10-198127a58d0a>\u001b[0m in \u001b[0;36m<module>\u001b[0;34m\u001b[0m\n\u001b[1;32m     11\u001b[0m     \u001b[0;32mfor\u001b[0m \u001b[0mfile\u001b[0m \u001b[0;32min\u001b[0m \u001b[0mcsv_files\u001b[0m\u001b[0;34m:\u001b[0m\u001b[0;34m\u001b[0m\u001b[0;34m\u001b[0m\u001b[0m\n\u001b[1;32m     12\u001b[0m         \u001b[0mdata_list\u001b[0m\u001b[0;34m.\u001b[0m\u001b[0mappend\u001b[0m\u001b[0;34m(\u001b[0m\u001b[0;34m[\u001b[0m\u001b[0;34m*\u001b[0m\u001b[0mpull_from_csv\u001b[0m\u001b[0;34m(\u001b[0m\u001b[0mfile\u001b[0m\u001b[0;34m,\u001b[0m\u001b[0mrow\u001b[0m\u001b[0;34m=\u001b[0m\u001b[0mrow_num\u001b[0m\u001b[0;34m)\u001b[0m\u001b[0;34m,\u001b[0m\u001b[0;34m*\u001b[0m\u001b[0mpull_from_csv\u001b[0m\u001b[0;34m(\u001b[0m\u001b[0mfile\u001b[0m\u001b[0;34m,\u001b[0m\u001b[0mrow\u001b[0m\u001b[0;34m=\u001b[0m\u001b[0mrow_num\u001b[0m\u001b[0;34m+\u001b[0m\u001b[0;36m8\u001b[0m\u001b[0;34m)\u001b[0m\u001b[0;34m,\u001b[0m\u001b[0;34m*\u001b[0m\u001b[0mpull_from_csv\u001b[0m\u001b[0;34m(\u001b[0m\u001b[0mfile\u001b[0m\u001b[0;34m,\u001b[0m\u001b[0mheader\u001b[0m\u001b[0;34m=\u001b[0m\u001b[0;36m16\u001b[0m\u001b[0;34m,\u001b[0m\u001b[0mrow\u001b[0m\u001b[0;34m=\u001b[0m\u001b[0mrow_num\u001b[0m\u001b[0;34m+\u001b[0m\u001b[0;36m1\u001b[0m\u001b[0;34m)\u001b[0m\u001b[0;34m]\u001b[0m\u001b[0;34m)\u001b[0m\u001b[0;34m\u001b[0m\u001b[0;34m\u001b[0m\u001b[0m\n\u001b[0;32m---> 13\u001b[0;31m     \u001b[0mmy_columns\u001b[0m \u001b[0;34m=\u001b[0m \u001b[0mlist\u001b[0m\u001b[0;34m(\u001b[0m\u001b[0mpd\u001b[0m\u001b[0;34m.\u001b[0m\u001b[0mread_csv\u001b[0m\u001b[0;34m(\u001b[0m\u001b[0mfile\u001b[0m\u001b[0;34m,\u001b[0m \u001b[0mheader\u001b[0m\u001b[0;34m=\u001b[0m\u001b[0;34m[\u001b[0m\u001b[0;36m1\u001b[0m\u001b[0;34m]\u001b[0m\u001b[0;34m,\u001b[0m \u001b[0merror_bad_lines\u001b[0m\u001b[0;34m=\u001b[0m\u001b[0;32mFalse\u001b[0m\u001b[0;34m)\u001b[0m\u001b[0;34m)\u001b[0m\u001b[0;34m\u001b[0m\u001b[0;34m\u001b[0m\u001b[0m\n\u001b[0m\u001b[1;32m     14\u001b[0m     \u001b[0mmy_errors\u001b[0m \u001b[0;34m=\u001b[0m \u001b[0;34m[\u001b[0m\u001b[0mitem\u001b[0m\u001b[0;34m+\u001b[0m\u001b[0;34m' Error (SD)'\u001b[0m \u001b[0;32mfor\u001b[0m \u001b[0mitem\u001b[0m \u001b[0;32min\u001b[0m \u001b[0mmy_columns\u001b[0m\u001b[0;34m]\u001b[0m\u001b[0;34m\u001b[0m\u001b[0;34m\u001b[0m\u001b[0m\n\u001b[1;32m     15\u001b[0m     \u001b[0mmy_diagnostics\u001b[0m \u001b[0;34m=\u001b[0m \u001b[0mpull_from_csv\u001b[0m\u001b[0;34m(\u001b[0m\u001b[0mfile\u001b[0m\u001b[0;34m,\u001b[0m\u001b[0mrow\u001b[0m\u001b[0;34m=\u001b[0m\u001b[0;36m0\u001b[0m\u001b[0;34m,\u001b[0m \u001b[0mheader\u001b[0m\u001b[0;34m=\u001b[0m\u001b[0;36m16\u001b[0m\u001b[0;34m)\u001b[0m\u001b[0;34m\u001b[0m\u001b[0;34m\u001b[0m\u001b[0m\n",
      "\u001b[0;32m~/.virtualenvs/pat3/lib/python3.8/site-packages/pandas/io/parsers.py\u001b[0m in \u001b[0;36mread_csv\u001b[0;34m(filepath_or_buffer, sep, delimiter, header, names, index_col, usecols, squeeze, prefix, mangle_dupe_cols, dtype, engine, converters, true_values, false_values, skipinitialspace, skiprows, skipfooter, nrows, na_values, keep_default_na, na_filter, verbose, skip_blank_lines, parse_dates, infer_datetime_format, keep_date_col, date_parser, dayfirst, cache_dates, iterator, chunksize, compression, thousands, decimal, lineterminator, quotechar, quoting, doublequote, escapechar, comment, encoding, dialect, error_bad_lines, warn_bad_lines, delim_whitespace, low_memory, memory_map, float_precision, storage_options)\u001b[0m\n\u001b[1;32m    608\u001b[0m     \u001b[0mkwds\u001b[0m\u001b[0;34m.\u001b[0m\u001b[0mupdate\u001b[0m\u001b[0;34m(\u001b[0m\u001b[0mkwds_defaults\u001b[0m\u001b[0;34m)\u001b[0m\u001b[0;34m\u001b[0m\u001b[0;34m\u001b[0m\u001b[0m\n\u001b[1;32m    609\u001b[0m \u001b[0;34m\u001b[0m\u001b[0m\n\u001b[0;32m--> 610\u001b[0;31m     \u001b[0;32mreturn\u001b[0m \u001b[0m_read\u001b[0m\u001b[0;34m(\u001b[0m\u001b[0mfilepath_or_buffer\u001b[0m\u001b[0;34m,\u001b[0m \u001b[0mkwds\u001b[0m\u001b[0;34m)\u001b[0m\u001b[0;34m\u001b[0m\u001b[0;34m\u001b[0m\u001b[0m\n\u001b[0m\u001b[1;32m    611\u001b[0m \u001b[0;34m\u001b[0m\u001b[0m\n\u001b[1;32m    612\u001b[0m \u001b[0;34m\u001b[0m\u001b[0m\n",
      "\u001b[0;32m~/.virtualenvs/pat3/lib/python3.8/site-packages/pandas/io/parsers.py\u001b[0m in \u001b[0;36m_read\u001b[0;34m(filepath_or_buffer, kwds)\u001b[0m\n\u001b[1;32m    466\u001b[0m \u001b[0;34m\u001b[0m\u001b[0m\n\u001b[1;32m    467\u001b[0m     \u001b[0;32mwith\u001b[0m \u001b[0mparser\u001b[0m\u001b[0;34m:\u001b[0m\u001b[0;34m\u001b[0m\u001b[0;34m\u001b[0m\u001b[0m\n\u001b[0;32m--> 468\u001b[0;31m         \u001b[0;32mreturn\u001b[0m \u001b[0mparser\u001b[0m\u001b[0;34m.\u001b[0m\u001b[0mread\u001b[0m\u001b[0;34m(\u001b[0m\u001b[0mnrows\u001b[0m\u001b[0;34m)\u001b[0m\u001b[0;34m\u001b[0m\u001b[0;34m\u001b[0m\u001b[0m\n\u001b[0m\u001b[1;32m    469\u001b[0m \u001b[0;34m\u001b[0m\u001b[0m\n\u001b[1;32m    470\u001b[0m \u001b[0;34m\u001b[0m\u001b[0m\n",
      "\u001b[0;32m~/.virtualenvs/pat3/lib/python3.8/site-packages/pandas/io/parsers.py\u001b[0m in \u001b[0;36mread\u001b[0;34m(self, nrows)\u001b[0m\n\u001b[1;32m   1055\u001b[0m     \u001b[0;32mdef\u001b[0m \u001b[0mread\u001b[0m\u001b[0;34m(\u001b[0m\u001b[0mself\u001b[0m\u001b[0;34m,\u001b[0m \u001b[0mnrows\u001b[0m\u001b[0;34m=\u001b[0m\u001b[0;32mNone\u001b[0m\u001b[0;34m)\u001b[0m\u001b[0;34m:\u001b[0m\u001b[0;34m\u001b[0m\u001b[0;34m\u001b[0m\u001b[0m\n\u001b[1;32m   1056\u001b[0m         \u001b[0mnrows\u001b[0m \u001b[0;34m=\u001b[0m \u001b[0mvalidate_integer\u001b[0m\u001b[0;34m(\u001b[0m\u001b[0;34m\"nrows\"\u001b[0m\u001b[0;34m,\u001b[0m \u001b[0mnrows\u001b[0m\u001b[0;34m)\u001b[0m\u001b[0;34m\u001b[0m\u001b[0;34m\u001b[0m\u001b[0m\n\u001b[0;32m-> 1057\u001b[0;31m         \u001b[0mindex\u001b[0m\u001b[0;34m,\u001b[0m \u001b[0mcolumns\u001b[0m\u001b[0;34m,\u001b[0m \u001b[0mcol_dict\u001b[0m \u001b[0;34m=\u001b[0m \u001b[0mself\u001b[0m\u001b[0;34m.\u001b[0m\u001b[0m_engine\u001b[0m\u001b[0;34m.\u001b[0m\u001b[0mread\u001b[0m\u001b[0;34m(\u001b[0m\u001b[0mnrows\u001b[0m\u001b[0;34m)\u001b[0m\u001b[0;34m\u001b[0m\u001b[0;34m\u001b[0m\u001b[0m\n\u001b[0m\u001b[1;32m   1058\u001b[0m \u001b[0;34m\u001b[0m\u001b[0m\n\u001b[1;32m   1059\u001b[0m         \u001b[0;32mif\u001b[0m \u001b[0mindex\u001b[0m \u001b[0;32mis\u001b[0m \u001b[0;32mNone\u001b[0m\u001b[0;34m:\u001b[0m\u001b[0;34m\u001b[0m\u001b[0;34m\u001b[0m\u001b[0m\n",
      "\u001b[0;32m~/.virtualenvs/pat3/lib/python3.8/site-packages/pandas/io/parsers.py\u001b[0m in \u001b[0;36mread\u001b[0;34m(self, nrows)\u001b[0m\n\u001b[1;32m   2059\u001b[0m     \u001b[0;32mdef\u001b[0m \u001b[0mread\u001b[0m\u001b[0;34m(\u001b[0m\u001b[0mself\u001b[0m\u001b[0;34m,\u001b[0m \u001b[0mnrows\u001b[0m\u001b[0;34m=\u001b[0m\u001b[0;32mNone\u001b[0m\u001b[0;34m)\u001b[0m\u001b[0;34m:\u001b[0m\u001b[0;34m\u001b[0m\u001b[0;34m\u001b[0m\u001b[0m\n\u001b[1;32m   2060\u001b[0m         \u001b[0;32mtry\u001b[0m\u001b[0;34m:\u001b[0m\u001b[0;34m\u001b[0m\u001b[0;34m\u001b[0m\u001b[0m\n\u001b[0;32m-> 2061\u001b[0;31m             \u001b[0mdata\u001b[0m \u001b[0;34m=\u001b[0m \u001b[0mself\u001b[0m\u001b[0;34m.\u001b[0m\u001b[0m_reader\u001b[0m\u001b[0;34m.\u001b[0m\u001b[0mread\u001b[0m\u001b[0;34m(\u001b[0m\u001b[0mnrows\u001b[0m\u001b[0;34m)\u001b[0m\u001b[0;34m\u001b[0m\u001b[0;34m\u001b[0m\u001b[0m\n\u001b[0m\u001b[1;32m   2062\u001b[0m         \u001b[0;32mexcept\u001b[0m \u001b[0mStopIteration\u001b[0m\u001b[0;34m:\u001b[0m\u001b[0;34m\u001b[0m\u001b[0;34m\u001b[0m\u001b[0m\n\u001b[1;32m   2063\u001b[0m             \u001b[0;32mif\u001b[0m \u001b[0mself\u001b[0m\u001b[0;34m.\u001b[0m\u001b[0m_first_chunk\u001b[0m\u001b[0;34m:\u001b[0m\u001b[0;34m\u001b[0m\u001b[0;34m\u001b[0m\u001b[0m\n",
      "\u001b[0;32mpandas/_libs/parsers.pyx\u001b[0m in \u001b[0;36mpandas._libs.parsers.TextReader.read\u001b[0;34m()\u001b[0m\n",
      "\u001b[0;32mpandas/_libs/parsers.pyx\u001b[0m in \u001b[0;36mpandas._libs.parsers.TextReader._read_low_memory\u001b[0;34m()\u001b[0m\n",
      "\u001b[0;32mpandas/_libs/parsers.pyx\u001b[0m in \u001b[0;36mpandas._libs.parsers.TextReader._read_rows\u001b[0;34m()\u001b[0m\n",
      "\u001b[0;32mpandas/_libs/parsers.pyx\u001b[0m in \u001b[0;36mpandas._libs.parsers.TextReader._tokenize_rows\u001b[0;34m()\u001b[0m\n",
      "\u001b[0;32mpandas/_libs/parsers.pyx\u001b[0m in \u001b[0;36mpandas._libs.parsers.raise_parser_error\u001b[0;34m()\u001b[0m\n",
      "\u001b[0;31mParserError\u001b[0m: Error tokenizing data. C error: Buffer overflow caught - possible malformed input file.\n"
     ]
    }
   ],
   "source": [
    "csv_files = [f for f in sorted(data_folder.rglob('*'), key=lambda x:x.parent.parent.stem[4:6]) if (\"act_both.csv\" in f.name.lower() and \"csi\" in f.name.lower())]\n",
    "\n",
    "\n",
    "\n",
    "rows_to_process = {'BGT': 5, #(BGT = Basal Ganglia and Thalamic, ie deep GM)\n",
    "                   'WM': 3,\n",
    "                   }\n",
    "\n",
    "for label,row_num in rows_to_process.items():\n",
    "    data_list = []\n",
    "    for file in csv_files:\n",
    "        data_list.append([*pull_from_csv(file,row=row_num),*pull_from_csv(file,row=row_num+8),*pull_from_csv(file,header=16,row=row_num+1)])\n",
    "    my_columns = list(pd.read_csv(file, header=[1], error_bad_lines=False))\n",
    "    my_errors = [item+' Error (SD)' for item in my_columns]\n",
    "    my_diagnostics = pull_from_csv(file,row=0, header=16)    \n",
    "    df = pd.DataFrame(data_list, columns=['LWP', *my_columns, 'Error for LWP', *my_errors,*my_diagnostics ])\n",
    "    df.to_excel(f'{label}.xlsx', index=False)\n",
    "    \n",
    "    #now calculate ratios\n",
    "    df_L2N = met_ratio(df,['Lac', 'Threonine'], 'TNAA')\n",
    "    df_L2N_narrow_error = met_ratio(df,['Lac', 'Threonine'], 'TNAA', error_method='Narrow', output='error')\n",
    "    df_N2C = met_ratio(df,'TNAA', 'TCho')\n",
    "    df_C2C = met_ratio(df,'TCho', 'Cr')\n",
    "    df_N2Cr = met_ratio(df,'TNAA', 'Cr')\n",
    "\n",
    "\n",
    "    # df_ratio = pd.concat((df_L2N, df_N2C, df_C2C, df_N2C, df), axis=1)\n",
    "    df_ratio = pd.concat((df_L2N,df_L2N_narrow_error, df_N2C, df_C2C, df_N2Cr, df), axis=1)\n",
    "\n",
    "    df_ratio.set_index('LWP').to_excel(f'{label}_RATIOS_INSPIRE.xlsx')\n",
    "\n"
   ]
  },
  {
   "cell_type": "code",
   "execution_count": null,
   "metadata": {},
   "outputs": [
    {
     "data": {
      "text/html": [
       "<div>\n",
       "<style scoped>\n",
       "    .dataframe tbody tr th:only-of-type {\n",
       "        vertical-align: middle;\n",
       "    }\n",
       "\n",
       "    .dataframe tbody tr th {\n",
       "        vertical-align: top;\n",
       "    }\n",
       "\n",
       "    .dataframe thead th {\n",
       "        text-align: right;\n",
       "    }\n",
       "</style>\n",
       "<table border=\"1\" class=\"dataframe\">\n",
       "  <thead>\n",
       "    <tr style=\"text-align: right;\">\n",
       "      <th></th>\n",
       "      <th>TNAA/TCho Error (SD) Narrow</th>\n",
       "    </tr>\n",
       "  </thead>\n",
       "  <tbody>\n",
       "    <tr>\n",
       "      <th>0</th>\n",
       "      <td>0.608414</td>\n",
       "    </tr>\n",
       "    <tr>\n",
       "      <th>1</th>\n",
       "      <td>1.211320</td>\n",
       "    </tr>\n",
       "    <tr>\n",
       "      <th>2</th>\n",
       "      <td>4.928498</td>\n",
       "    </tr>\n",
       "    <tr>\n",
       "      <th>3</th>\n",
       "      <td>0.501901</td>\n",
       "    </tr>\n",
       "    <tr>\n",
       "      <th>4</th>\n",
       "      <td>0.327740</td>\n",
       "    </tr>\n",
       "    <tr>\n",
       "      <th>5</th>\n",
       "      <td>0.687924</td>\n",
       "    </tr>\n",
       "    <tr>\n",
       "      <th>6</th>\n",
       "      <td>0.695159</td>\n",
       "    </tr>\n",
       "    <tr>\n",
       "      <th>7</th>\n",
       "      <td>0.920864</td>\n",
       "    </tr>\n",
       "    <tr>\n",
       "      <th>8</th>\n",
       "      <td>1.009604</td>\n",
       "    </tr>\n",
       "    <tr>\n",
       "      <th>9</th>\n",
       "      <td>NaN</td>\n",
       "    </tr>\n",
       "    <tr>\n",
       "      <th>10</th>\n",
       "      <td>0.790306</td>\n",
       "    </tr>\n",
       "    <tr>\n",
       "      <th>11</th>\n",
       "      <td>0.750305</td>\n",
       "    </tr>\n",
       "    <tr>\n",
       "      <th>12</th>\n",
       "      <td>1.350067</td>\n",
       "    </tr>\n",
       "    <tr>\n",
       "      <th>13</th>\n",
       "      <td>1.199008</td>\n",
       "    </tr>\n",
       "    <tr>\n",
       "      <th>14</th>\n",
       "      <td>0.399276</td>\n",
       "    </tr>\n",
       "    <tr>\n",
       "      <th>15</th>\n",
       "      <td>0.692715</td>\n",
       "    </tr>\n",
       "    <tr>\n",
       "      <th>16</th>\n",
       "      <td>0.789930</td>\n",
       "    </tr>\n",
       "    <tr>\n",
       "      <th>17</th>\n",
       "      <td>1.542675</td>\n",
       "    </tr>\n",
       "    <tr>\n",
       "      <th>18</th>\n",
       "      <td>0.380440</td>\n",
       "    </tr>\n",
       "    <tr>\n",
       "      <th>19</th>\n",
       "      <td>1.215006</td>\n",
       "    </tr>\n",
       "    <tr>\n",
       "      <th>20</th>\n",
       "      <td>1.050671</td>\n",
       "    </tr>\n",
       "    <tr>\n",
       "      <th>21</th>\n",
       "      <td>0.790906</td>\n",
       "    </tr>\n",
       "    <tr>\n",
       "      <th>22</th>\n",
       "      <td>1.137630</td>\n",
       "    </tr>\n",
       "    <tr>\n",
       "      <th>23</th>\n",
       "      <td>0.646126</td>\n",
       "    </tr>\n",
       "    <tr>\n",
       "      <th>24</th>\n",
       "      <td>0.692777</td>\n",
       "    </tr>\n",
       "  </tbody>\n",
       "</table>\n",
       "</div>"
      ],
      "text/plain": [
       "    TNAA/TCho Error (SD) Narrow\n",
       "0                      0.608414\n",
       "1                      1.211320\n",
       "2                      4.928498\n",
       "3                      0.501901\n",
       "4                      0.327740\n",
       "5                      0.687924\n",
       "6                      0.695159\n",
       "7                      0.920864\n",
       "8                      1.009604\n",
       "9                           NaN\n",
       "10                     0.790306\n",
       "11                     0.750305\n",
       "12                     1.350067\n",
       "13                     1.199008\n",
       "14                     0.399276\n",
       "15                     0.692715\n",
       "16                     0.789930\n",
       "17                     1.542675\n",
       "18                     0.380440\n",
       "19                     1.215006\n",
       "20                     1.050671\n",
       "21                     0.790906\n",
       "22                     1.137630\n",
       "23                     0.646126\n",
       "24                     0.692777"
      ]
     },
     "execution_count": 54,
     "metadata": {},
     "output_type": "execute_result"
    }
   ],
   "source": [
    "dfbb = met_ratio(df,'TNAA', 'TCho', error_method='Narrow', output='error')\n",
    "dfbb\n"
   ]
  },
  {
   "cell_type": "code",
   "execution_count": null,
   "metadata": {},
   "outputs": [],
   "source": []
  }
 ],
 "metadata": {
  "kernelspec": {
   "display_name": "Python 3.8.2 ('pat3')",
   "language": "python",
   "name": "python3"
  },
  "language_info": {
   "codemirror_mode": {
    "name": "ipython",
    "version": 3
   },
   "file_extension": ".py",
   "mimetype": "text/x-python",
   "name": "python",
   "nbconvert_exporter": "python",
   "pygments_lexer": "ipython3",
   "version": "3.8.2"
  },
  "vscode": {
   "interpreter": {
    "hash": "7bcf6ce9e4b9108ac27b6266c0f70d472c30c010d14ee0d62e955855c910a9ea"
   }
  }
 },
 "nbformat": 4,
 "nbformat_minor": 4
}
